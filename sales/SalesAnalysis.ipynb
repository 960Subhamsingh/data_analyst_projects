{
 "cells": [
  {
   "cell_type": "markdown",
   "metadata": {},
   "source": [
    "# Sales Analysis"
   ]
  },
  {
   "cell_type": "markdown",
   "metadata": {},
   "source": [
    "---\n",
    "## Table of contents:"
   ]
  },
  {
   "cell_type": "markdown",
   "metadata": {},
   "source": [
    "- [Introduction](#intro)\n",
    "- [1. Importing necessary libraries](#import)\n",
    "- [2. Gathering data](#gather)\n",
    "- [3. Assessing data](#assess)\n",
    "- [4. Cleaning data](#clean)\n",
    "- [5. Storing cleaned data](#store) \n",
    "- [6. Analyze and Visualization](#analyze-visaulize) "
   ]
  },
  {
   "cell_type": "markdown",
   "metadata": {},
   "source": [
    "---\n",
    "<a id='intro'></a>\n",
    "## Introduction:"
   ]
  },
  {
   "cell_type": "markdown",
   "metadata": {},
   "source": [
    "Using Python, Pandas & Matplotlib to analyze and answer business questions about 12 months worth of sales data.<br> \n",
    "The data contains hundreds of thousands of electronics store purchases broken down by month, product type, cost, purchase address, etc."
   ]
  },
  {
   "cell_type": "markdown",
   "metadata": {},
   "source": [
    "---\n",
    "<a id='import'></a>\n",
    "## 1. Importing necessary libraries"
   ]
  },
  {
   "cell_type": "code",
   "execution_count": 1,
   "metadata": {},
   "outputs": [],
   "source": [
    "# import libraries\n",
    "import os\n",
    "import re\n",
    "import numpy as np\n",
    "import pandas as pd\n",
    "import matplotlib.pyplot as plt"
   ]
  },
  {
   "cell_type": "markdown",
   "metadata": {},
   "source": [
    "---\n",
    "<a id='gather'></a>\n",
    "## 2. Gathering data"
   ]
  },
  {
   "cell_type": "markdown",
   "metadata": {},
   "source": [
    "**All sales data are provided to us in a CSV format.**"
   ]
  },
  {
   "cell_type": "code",
   "execution_count": 16,
   "metadata": {},
   "outputs": [
    {
     "ename": "NameError",
     "evalue": "name 'os' is not defined",
     "output_type": "error",
     "traceback": [
      "\u001b[1;31m---------------------------------------------------------------------------\u001b[0m",
      "\u001b[1;31mNameError\u001b[0m                                 Traceback (most recent call last)",
      "Cell \u001b[1;32mIn[16], line 1\u001b[0m\n\u001b[1;32m----> 1\u001b[0m os\u001b[38;5;241m.\u001b[39mlistdir(\u001b[38;5;124m'\u001b[39m\u001b[38;5;124mdata\u001b[39m\u001b[38;5;124m'\u001b[39m)\n",
      "\u001b[1;31mNameError\u001b[0m: name 'os' is not defined"
     ]
    }
   ],
   "source": [
    "os.listdir('data')"
   ]
  },
  {
   "cell_type": "markdown",
   "metadata": {},
   "source": [
    "---\n",
    "## 3. Assessing data"
   ]
  },
  {
   "cell_type": "code",
   "execution_count": 3,
   "metadata": {
    "scrolled": true
   },
   "outputs": [],
   "source": [
    "# exploring data\n",
    "df_jan = pd.read_csv('./data/Sales_January_2019.csv')\n",
    "df_feb = pd.read_csv('./data/Sales_February_2019.csv')\n",
    "df_mar = pd.read_csv('./data/Sales_March_2019.csv')\n",
    "df_apr = pd.read_csv('./data/Sales_April_2019.csv')\n",
    "df_may = pd.read_csv('./data/Sales_May_2019.csv')\n",
    "df_jun = pd.read_csv('./data/Sales_June_2019.csv')\n",
    "df_jul = pd.read_csv('./data/Sales_July_2019.csv')\n",
    "df_aug = pd.read_csv('./data/Sales_August_2019.csv')\n",
    "df_sep = pd.read_csv('./data/Sales_September_2019.csv')\n",
    "df_oct = pd.read_csv('./data/Sales_October_2019.csv')\n",
    "df_nov = pd.read_csv('./data/Sales_November_2019.csv')\n",
    "df_dec = pd.read_csv('./data/Sales_December_2019.csv')\n"
   ]
  },
  {
   "cell_type": "code",
   "execution_count": 4,
   "metadata": {},
   "outputs": [
    {
     "data": {
      "text/html": [
       "<div>\n",
       "<style scoped>\n",
       "    .dataframe tbody tr th:only-of-type {\n",
       "        vertical-align: middle;\n",
       "    }\n",
       "\n",
       "    .dataframe tbody tr th {\n",
       "        vertical-align: top;\n",
       "    }\n",
       "\n",
       "    .dataframe thead th {\n",
       "        text-align: right;\n",
       "    }\n",
       "</style>\n",
       "<table border=\"1\" class=\"dataframe\">\n",
       "  <thead>\n",
       "    <tr style=\"text-align: right;\">\n",
       "      <th></th>\n",
       "      <th>Order ID</th>\n",
       "      <th>Product</th>\n",
       "      <th>Quantity Ordered</th>\n",
       "      <th>Price Each</th>\n",
       "      <th>Order Date</th>\n",
       "      <th>Purchase Address</th>\n",
       "    </tr>\n",
       "  </thead>\n",
       "  <tbody>\n",
       "    <tr>\n",
       "      <th>0</th>\n",
       "      <td>141234</td>\n",
       "      <td>iPhone</td>\n",
       "      <td>1</td>\n",
       "      <td>700</td>\n",
       "      <td>01/22/19 21:25</td>\n",
       "      <td>944 Walnut St, Boston, MA 02215</td>\n",
       "    </tr>\n",
       "    <tr>\n",
       "      <th>1</th>\n",
       "      <td>141235</td>\n",
       "      <td>Lightning Charging Cable</td>\n",
       "      <td>1</td>\n",
       "      <td>14.95</td>\n",
       "      <td>01/28/19 14:15</td>\n",
       "      <td>185 Maple St, Portland, OR 97035</td>\n",
       "    </tr>\n",
       "    <tr>\n",
       "      <th>2</th>\n",
       "      <td>141236</td>\n",
       "      <td>Wired Headphones</td>\n",
       "      <td>2</td>\n",
       "      <td>11.99</td>\n",
       "      <td>01/17/19 13:33</td>\n",
       "      <td>538 Adams St, San Francisco, CA 94016</td>\n",
       "    </tr>\n",
       "    <tr>\n",
       "      <th>3</th>\n",
       "      <td>141237</td>\n",
       "      <td>27in FHD Monitor</td>\n",
       "      <td>1</td>\n",
       "      <td>149.99</td>\n",
       "      <td>01/05/19 20:33</td>\n",
       "      <td>738 10th St, Los Angeles, CA 90001</td>\n",
       "    </tr>\n",
       "    <tr>\n",
       "      <th>4</th>\n",
       "      <td>141238</td>\n",
       "      <td>Wired Headphones</td>\n",
       "      <td>1</td>\n",
       "      <td>11.99</td>\n",
       "      <td>01/25/19 11:59</td>\n",
       "      <td>387 10th St, Austin, TX 73301</td>\n",
       "    </tr>\n",
       "  </tbody>\n",
       "</table>\n",
       "</div>"
      ],
      "text/plain": [
       "  Order ID                   Product Quantity Ordered Price Each  \\\n",
       "0   141234                    iPhone                1        700   \n",
       "1   141235  Lightning Charging Cable                1      14.95   \n",
       "2   141236          Wired Headphones                2      11.99   \n",
       "3   141237          27in FHD Monitor                1     149.99   \n",
       "4   141238          Wired Headphones                1      11.99   \n",
       "\n",
       "       Order Date                       Purchase Address  \n",
       "0  01/22/19 21:25        944 Walnut St, Boston, MA 02215  \n",
       "1  01/28/19 14:15       185 Maple St, Portland, OR 97035  \n",
       "2  01/17/19 13:33  538 Adams St, San Francisco, CA 94016  \n",
       "3  01/05/19 20:33     738 10th St, Los Angeles, CA 90001  \n",
       "4  01/25/19 11:59          387 10th St, Austin, TX 73301  "
      ]
     },
     "execution_count": 4,
     "metadata": {},
     "output_type": "execute_result"
    }
   ],
   "source": [
    "df_jan.head()"
   ]
  },
  {
   "cell_type": "code",
   "execution_count": null,
   "metadata": {},
   "outputs": [],
   "source": [
    "df_jan."
   ]
  },
  {
   "cell_type": "code",
   "execution_count": 5,
   "metadata": {},
   "outputs": [
    {
     "name": "stdout",
     "output_type": "stream",
     "text": [
      "<class 'pandas.core.frame.DataFrame'>\n",
      "RangeIndex: 9723 entries, 0 to 9722\n",
      "Data columns (total 6 columns):\n",
      " #   Column            Non-Null Count  Dtype \n",
      "---  ------            --------------  ----- \n",
      " 0   Order ID          9697 non-null   object\n",
      " 1   Product           9697 non-null   object\n",
      " 2   Quantity Ordered  9697 non-null   object\n",
      " 3   Price Each        9697 non-null   object\n",
      " 4   Order Date        9697 non-null   object\n",
      " 5   Purchase Address  9697 non-null   object\n",
      "dtypes: object(6)\n",
      "memory usage: 455.9+ KB\n"
     ]
    }
   ],
   "source": [
    "df_jan.info()"
   ]
  },
  {
   "cell_type": "code",
   "execution_count": 6,
   "metadata": {},
   "outputs": [
    {
     "data": {
      "text/plain": [
       "Order ID  Product  Quantity Ordered  Price Each  Order Date  Purchase Address\n",
       "False     False    False             False       False       False               9697\n",
       "True      True     True              True        True        True                  26\n",
       "Name: count, dtype: int64"
      ]
     },
     "execution_count": 6,
     "metadata": {},
     "output_type": "execute_result"
    }
   ],
   "source": [
    "df_jan.isnull().value_counts()"
   ]
  },
  {
   "cell_type": "code",
   "execution_count": 7,
   "metadata": {},
   "outputs": [
    {
     "name": "stdout",
     "output_type": "stream",
     "text": [
      "Jan: (9723, 6)\n",
      "Feb: (12036, 6)\n",
      "Mar: (15226, 6)\n",
      "Apr: (18324, 6)\n",
      "May: (16635, 6)\n",
      "Jun: (13622, 6)\n",
      "Jul: (14371, 6)\n",
      "Aug: (12011, 6)\n",
      "Sep: (11686, 6)\n",
      "Oct: (20379, 6)\n",
      "Nov: (17661, 6)\n",
      "Dec: (25117, 6)\n"
     ]
    }
   ],
   "source": [
    "print(f\"Jan: {df_jan.shape}\")\n",
    "print(f\"Feb: {df_feb.shape}\")\n",
    "print(f\"Mar: {df_mar.shape}\")\n",
    "print(f\"Apr: {df_apr.shape}\")\n",
    "print(f\"May: {df_may.shape}\")\n",
    "print(f\"Jun: {df_jun.shape}\")\n",
    "print(f\"Jul: {df_jul.shape}\")\n",
    "print(f\"Aug: {df_aug.shape}\")\n",
    "print(f\"Sep: {df_sep.shape}\")\n",
    "print(f\"Oct: {df_oct.shape}\")\n",
    "print(f\"Nov: {df_nov.shape}\")\n",
    "print(f\"Dec: {df_dec.shape}\")"
   ]
  },
  {
   "cell_type": "markdown",
   "metadata": {
    "jp-MarkdownHeadingCollapsed": true
   },
   "source": [
    "### Assessment Summary\n",
    "\n",
    "**Quality issues**\n",
    "Erroneous datatypes:\n",
    "- `Quantity Ordered` should be `int`.\n",
    "- `Price Each` should be `float`.\n",
    "- `Order Date` should be `datetime`.\n",
    "- In columns names: Replace space with underscore `_` for easy usage. (Optional)\n",
    "- Missing Values\n",
    "\n",
    "**Tidiness issues**\n",
    "- All sales data from the 12 months should be merged into one dataset.\n",
    "- `Total Price` column should be added.\n",
    "- Extact/Create other columns from existing columns."
   ]
  },
  {
   "cell_type": "markdown",
   "metadata": {},
   "source": [
    "---\n",
    "<a id='clean'></a>\n",
    "## 4. Cleaning data"
   ]
  },
  {
   "cell_type": "markdown",
   "metadata": {},
   "source": [
    "**First we merge the datasets to clean it one time**"
   ]
  },
  {
   "cell_type": "markdown",
   "metadata": {},
   "source": [
    "**Code**"
   ]
  },
  {
   "cell_type": "code",
   "execution_count": 8,
   "metadata": {},
   "outputs": [
    {
     "data": {
      "text/html": [
       "<div>\n",
       "<style scoped>\n",
       "    .dataframe tbody tr th:only-of-type {\n",
       "        vertical-align: middle;\n",
       "    }\n",
       "\n",
       "    .dataframe tbody tr th {\n",
       "        vertical-align: top;\n",
       "    }\n",
       "\n",
       "    .dataframe thead th {\n",
       "        text-align: right;\n",
       "    }\n",
       "</style>\n",
       "<table border=\"1\" class=\"dataframe\">\n",
       "  <thead>\n",
       "    <tr style=\"text-align: right;\">\n",
       "      <th></th>\n",
       "      <th>Order ID</th>\n",
       "      <th>Product</th>\n",
       "      <th>Quantity Ordered</th>\n",
       "      <th>Price Each</th>\n",
       "      <th>Order Date</th>\n",
       "      <th>Purchase Address</th>\n",
       "    </tr>\n",
       "  </thead>\n",
       "  <tbody>\n",
       "    <tr>\n",
       "      <th>0</th>\n",
       "      <td>176558</td>\n",
       "      <td>USB-C Charging Cable</td>\n",
       "      <td>2</td>\n",
       "      <td>11.95</td>\n",
       "      <td>04/19/19 08:46</td>\n",
       "      <td>917 1st St, Dallas, TX 75001</td>\n",
       "    </tr>\n",
       "    <tr>\n",
       "      <th>1</th>\n",
       "      <td>176559</td>\n",
       "      <td>Bose SoundSport Headphones</td>\n",
       "      <td>1</td>\n",
       "      <td>99.99</td>\n",
       "      <td>04-07-19 22:30</td>\n",
       "      <td>682 Chestnut St, Boston, MA 02215</td>\n",
       "    </tr>\n",
       "    <tr>\n",
       "      <th>2</th>\n",
       "      <td>176560</td>\n",
       "      <td>Google Phone</td>\n",
       "      <td>1</td>\n",
       "      <td>600</td>\n",
       "      <td>04-12-19 14:38</td>\n",
       "      <td>669 Spruce St, Los Angeles, CA 90001</td>\n",
       "    </tr>\n",
       "    <tr>\n",
       "      <th>3</th>\n",
       "      <td>176560</td>\n",
       "      <td>Wired Headphones</td>\n",
       "      <td>1</td>\n",
       "      <td>11.99</td>\n",
       "      <td>04-12-19 14:38</td>\n",
       "      <td>669 Spruce St, Los Angeles, CA 90001</td>\n",
       "    </tr>\n",
       "    <tr>\n",
       "      <th>4</th>\n",
       "      <td>176561</td>\n",
       "      <td>Wired Headphones</td>\n",
       "      <td>1</td>\n",
       "      <td>11.99</td>\n",
       "      <td>04/30/19 09:27</td>\n",
       "      <td>333 8th St, Los Angeles, CA 90001</td>\n",
       "    </tr>\n",
       "  </tbody>\n",
       "</table>\n",
       "</div>"
      ],
      "text/plain": [
       "  Order ID                     Product Quantity Ordered Price Each  \\\n",
       "0   176558        USB-C Charging Cable                2      11.95   \n",
       "1   176559  Bose SoundSport Headphones                1      99.99   \n",
       "2   176560                Google Phone                1        600   \n",
       "3   176560            Wired Headphones                1      11.99   \n",
       "4   176561            Wired Headphones                1      11.99   \n",
       "\n",
       "       Order Date                      Purchase Address  \n",
       "0  04/19/19 08:46          917 1st St, Dallas, TX 75001  \n",
       "1  04-07-19 22:30     682 Chestnut St, Boston, MA 02215  \n",
       "2  04-12-19 14:38  669 Spruce St, Los Angeles, CA 90001  \n",
       "3  04-12-19 14:38  669 Spruce St, Los Angeles, CA 90001  \n",
       "4  04/30/19 09:27     333 8th St, Los Angeles, CA 90001  "
      ]
     },
     "execution_count": 8,
     "metadata": {},
     "output_type": "execute_result"
    }
   ],
   "source": [
    "df_all = pd.DataFrame()\n",
    "\n",
    "for file in os.listdir('./data/'):\n",
    "    df_temp = pd.read_csv('./data/'+file)\n",
    "    df_all = pd.concat([df_all, df_temp])\n",
    "    \n",
    "df_all.head()"
   ]
  },
  {
   "cell_type": "markdown",
   "metadata": {},
   "source": [
    "**It is a good practice to work on copies in cleaning stage**"
   ]
  },
  {
   "cell_type": "code",
   "execution_count": 19,
   "metadata": {},
   "outputs": [
    {
     "ename": "NameError",
     "evalue": "name 'df_all' is not defined",
     "output_type": "error",
     "traceback": [
      "\u001b[1;31m---------------------------------------------------------------------------\u001b[0m",
      "\u001b[1;31mNameError\u001b[0m                                 Traceback (most recent call last)",
      "Cell \u001b[1;32mIn[19], line 2\u001b[0m\n\u001b[0;32m      1\u001b[0m \u001b[38;5;66;03m# copy\u001b[39;00m\n\u001b[1;32m----> 2\u001b[0m df_all_clean \u001b[38;5;241m=\u001b[39m df_all\u001b[38;5;241m.\u001b[39mcopy()\n",
      "\u001b[1;31mNameError\u001b[0m: name 'df_all' is not defined"
     ]
    }
   ],
   "source": [
    "# copy\n",
    "df_all_clean = df_all.copy()"
   ]
  },
  {
   "cell_type": "markdown",
   "metadata": {},
   "source": [
    "**1. Remove `NaN` values**"
   ]
  },
  {
   "cell_type": "markdown",
   "metadata": {},
   "source": [
    "**Define**\n",
    "- Drop `NaN` values"
   ]
  },
  {
   "cell_type": "code",
   "execution_count": 10,
   "metadata": {},
   "outputs": [
    {
     "data": {
      "text/plain": [
       "Order ID  Product  Quantity Ordered  Price Each  Order Date  Purchase Address\n",
       "False     False    False             False       False       False               186305\n",
       "True      True     True              True        True        True                   486\n",
       "Name: count, dtype: int64"
      ]
     },
     "execution_count": 10,
     "metadata": {},
     "output_type": "execute_result"
    }
   ],
   "source": [
    "df_all_clean.isna().value_counts()"
   ]
  },
  {
   "cell_type": "markdown",
   "metadata": {},
   "source": [
    "**Code**"
   ]
  },
  {
   "cell_type": "code",
   "execution_count": 11,
   "metadata": {},
   "outputs": [],
   "source": [
    "df_all_clean.dropna(inplace=True)"
   ]
  },
  {
   "cell_type": "markdown",
   "metadata": {},
   "source": [
    "**Test**"
   ]
  },
  {
   "cell_type": "code",
   "execution_count": 12,
   "metadata": {},
   "outputs": [
    {
     "data": {
      "text/plain": [
       "(186305, 6)"
      ]
     },
     "execution_count": 12,
     "metadata": {},
     "output_type": "execute_result"
    }
   ],
   "source": [
    "df_all_clean.shape"
   ]
  },
  {
   "cell_type": "code",
   "execution_count": 13,
   "metadata": {},
   "outputs": [
    {
     "data": {
      "text/plain": [
       "Order ID  Product  Quantity Ordered  Price Each  Order Date  Purchase Address\n",
       "False     False    False             False       False       False               186305\n",
       "Name: count, dtype: int64"
      ]
     },
     "execution_count": 13,
     "metadata": {},
     "output_type": "execute_result"
    }
   ],
   "source": [
    "df_all_clean.isna().value_counts()"
   ]
  },
  {
   "cell_type": "markdown",
   "metadata": {},
   "source": [
    "**2. Rename the columns**\n"
   ]
  },
  {
   "cell_type": "markdown",
   "metadata": {},
   "source": [
    "**Define**\n",
    "- Rename the columns to a lower case and replace the white space with an underscore to easy usage"
   ]
  },
  {
   "cell_type": "markdown",
   "metadata": {},
   "source": [
    "**Code**"
   ]
  },
  {
   "cell_type": "code",
   "execution_count": 14,
   "metadata": {},
   "outputs": [],
   "source": [
    "df_all_clean.rename(columns=lambda x: x.lower().replace(' ','_'), inplace=True)"
   ]
  },
  {
   "cell_type": "markdown",
   "metadata": {},
   "source": [
    "**Test**"
   ]
  },
  {
   "cell_type": "code",
   "execution_count": 15,
   "metadata": {},
   "outputs": [
    {
     "name": "stdout",
     "output_type": "stream",
     "text": [
      "order_id\n",
      "product\n",
      "quantity_ordered\n",
      "price_each\n",
      "order_date\n",
      "purchase_address\n"
     ]
    }
   ],
   "source": [
    "for column in df_all_clean.columns:\n",
    "    print(column) "
   ]
  },
  {
   "cell_type": "markdown",
   "metadata": {},
   "source": [
    "**3. Erroneous datatypes: Quantity Ordered & Price Each Should be `float`**"
   ]
  },
  {
   "cell_type": "code",
   "execution_count": 16,
   "metadata": {},
   "outputs": [
    {
     "name": "stdout",
     "output_type": "stream",
     "text": [
      "<class 'pandas.core.frame.DataFrame'>\n",
      "Index: 186305 entries, 0 to 11685\n",
      "Data columns (total 6 columns):\n",
      " #   Column            Non-Null Count   Dtype \n",
      "---  ------            --------------   ----- \n",
      " 0   order_id          186305 non-null  object\n",
      " 1   product           186305 non-null  object\n",
      " 2   quantity_ordered  186305 non-null  object\n",
      " 3   price_each        186305 non-null  object\n",
      " 4   order_date        186305 non-null  object\n",
      " 5   purchase_address  186305 non-null  object\n",
      "dtypes: object(6)\n",
      "memory usage: 9.9+ MB\n"
     ]
    }
   ],
   "source": [
    "df_all_clean.info()"
   ]
  },
  {
   "cell_type": "markdown",
   "metadata": {},
   "source": [
    "**Define**\n",
    "- Convert `Quantity Ordered` & `Price Each` to `float` using `astype()`"
   ]
  },
  {
   "cell_type": "markdown",
   "metadata": {},
   "source": [
    "**Code**"
   ]
  },
  {
   "cell_type": "code",
   "execution_count": 17,
   "metadata": {},
   "outputs": [
    {
     "data": {
      "text/plain": [
       "quantity_ordered\n",
       "1                   168552\n",
       "2                    13324\n",
       "3                     2920\n",
       "4                      806\n",
       "Quantity Ordered       355\n",
       "5                      236\n",
       "6                       80\n",
       "7                       24\n",
       "8                        5\n",
       "9                        3\n",
       "Name: count, dtype: int64"
      ]
     },
     "execution_count": 17,
     "metadata": {},
     "output_type": "execute_result"
    }
   ],
   "source": [
    "df_all_clean.quantity_ordered.value_counts()"
   ]
  },
  {
   "cell_type": "markdown",
   "metadata": {},
   "source": [
    "**4. Remove `\"Order ID\tProduct\tQuantity Ordered\tPrice Each\tOrder Date\tPurchase Addres\"` rows** "
   ]
  },
  {
   "cell_type": "code",
   "execution_count": 18,
   "metadata": {},
   "outputs": [
    {
     "data": {
      "text/html": [
       "<div>\n",
       "<style scoped>\n",
       "    .dataframe tbody tr th:only-of-type {\n",
       "        vertical-align: middle;\n",
       "    }\n",
       "\n",
       "    .dataframe tbody tr th {\n",
       "        vertical-align: top;\n",
       "    }\n",
       "\n",
       "    .dataframe thead th {\n",
       "        text-align: right;\n",
       "    }\n",
       "</style>\n",
       "<table border=\"1\" class=\"dataframe\">\n",
       "  <thead>\n",
       "    <tr style=\"text-align: right;\">\n",
       "      <th></th>\n",
       "      <th>order_id</th>\n",
       "      <th>product</th>\n",
       "      <th>quantity_ordered</th>\n",
       "      <th>price_each</th>\n",
       "      <th>order_date</th>\n",
       "      <th>purchase_address</th>\n",
       "    </tr>\n",
       "  </thead>\n",
       "  <tbody>\n",
       "    <tr>\n",
       "      <th>517</th>\n",
       "      <td>Order ID</td>\n",
       "      <td>Product</td>\n",
       "      <td>Quantity Ordered</td>\n",
       "      <td>Price Each</td>\n",
       "      <td>Order Date</td>\n",
       "      <td>Purchase Address</td>\n",
       "    </tr>\n",
       "    <tr>\n",
       "      <th>1146</th>\n",
       "      <td>Order ID</td>\n",
       "      <td>Product</td>\n",
       "      <td>Quantity Ordered</td>\n",
       "      <td>Price Each</td>\n",
       "      <td>Order Date</td>\n",
       "      <td>Purchase Address</td>\n",
       "    </tr>\n",
       "    <tr>\n",
       "      <th>1152</th>\n",
       "      <td>Order ID</td>\n",
       "      <td>Product</td>\n",
       "      <td>Quantity Ordered</td>\n",
       "      <td>Price Each</td>\n",
       "      <td>Order Date</td>\n",
       "      <td>Purchase Address</td>\n",
       "    </tr>\n",
       "    <tr>\n",
       "      <th>2869</th>\n",
       "      <td>Order ID</td>\n",
       "      <td>Product</td>\n",
       "      <td>Quantity Ordered</td>\n",
       "      <td>Price Each</td>\n",
       "      <td>Order Date</td>\n",
       "      <td>Purchase Address</td>\n",
       "    </tr>\n",
       "    <tr>\n",
       "      <th>2884</th>\n",
       "      <td>Order ID</td>\n",
       "      <td>Product</td>\n",
       "      <td>Quantity Ordered</td>\n",
       "      <td>Price Each</td>\n",
       "      <td>Order Date</td>\n",
       "      <td>Purchase Address</td>\n",
       "    </tr>\n",
       "    <tr>\n",
       "      <th>...</th>\n",
       "      <td>...</td>\n",
       "      <td>...</td>\n",
       "      <td>...</td>\n",
       "      <td>...</td>\n",
       "      <td>...</td>\n",
       "      <td>...</td>\n",
       "    </tr>\n",
       "    <tr>\n",
       "      <th>10000</th>\n",
       "      <td>Order ID</td>\n",
       "      <td>Product</td>\n",
       "      <td>Quantity Ordered</td>\n",
       "      <td>Price Each</td>\n",
       "      <td>Order Date</td>\n",
       "      <td>Purchase Address</td>\n",
       "    </tr>\n",
       "    <tr>\n",
       "      <th>10387</th>\n",
       "      <td>Order ID</td>\n",
       "      <td>Product</td>\n",
       "      <td>Quantity Ordered</td>\n",
       "      <td>Price Each</td>\n",
       "      <td>Order Date</td>\n",
       "      <td>Purchase Address</td>\n",
       "    </tr>\n",
       "    <tr>\n",
       "      <th>11399</th>\n",
       "      <td>Order ID</td>\n",
       "      <td>Product</td>\n",
       "      <td>Quantity Ordered</td>\n",
       "      <td>Price Each</td>\n",
       "      <td>Order Date</td>\n",
       "      <td>Purchase Address</td>\n",
       "    </tr>\n",
       "    <tr>\n",
       "      <th>11468</th>\n",
       "      <td>Order ID</td>\n",
       "      <td>Product</td>\n",
       "      <td>Quantity Ordered</td>\n",
       "      <td>Price Each</td>\n",
       "      <td>Order Date</td>\n",
       "      <td>Purchase Address</td>\n",
       "    </tr>\n",
       "    <tr>\n",
       "      <th>11574</th>\n",
       "      <td>Order ID</td>\n",
       "      <td>Product</td>\n",
       "      <td>Quantity Ordered</td>\n",
       "      <td>Price Each</td>\n",
       "      <td>Order Date</td>\n",
       "      <td>Purchase Address</td>\n",
       "    </tr>\n",
       "  </tbody>\n",
       "</table>\n",
       "<p>355 rows × 6 columns</p>\n",
       "</div>"
      ],
      "text/plain": [
       "       order_id  product  quantity_ordered  price_each  order_date  \\\n",
       "517    Order ID  Product  Quantity Ordered  Price Each  Order Date   \n",
       "1146   Order ID  Product  Quantity Ordered  Price Each  Order Date   \n",
       "1152   Order ID  Product  Quantity Ordered  Price Each  Order Date   \n",
       "2869   Order ID  Product  Quantity Ordered  Price Each  Order Date   \n",
       "2884   Order ID  Product  Quantity Ordered  Price Each  Order Date   \n",
       "...         ...      ...               ...         ...         ...   \n",
       "10000  Order ID  Product  Quantity Ordered  Price Each  Order Date   \n",
       "10387  Order ID  Product  Quantity Ordered  Price Each  Order Date   \n",
       "11399  Order ID  Product  Quantity Ordered  Price Each  Order Date   \n",
       "11468  Order ID  Product  Quantity Ordered  Price Each  Order Date   \n",
       "11574  Order ID  Product  Quantity Ordered  Price Each  Order Date   \n",
       "\n",
       "       purchase_address  \n",
       "517    Purchase Address  \n",
       "1146   Purchase Address  \n",
       "1152   Purchase Address  \n",
       "2869   Purchase Address  \n",
       "2884   Purchase Address  \n",
       "...                 ...  \n",
       "10000  Purchase Address  \n",
       "10387  Purchase Address  \n",
       "11399  Purchase Address  \n",
       "11468  Purchase Address  \n",
       "11574  Purchase Address  \n",
       "\n",
       "[355 rows x 6 columns]"
      ]
     },
     "execution_count": 18,
     "metadata": {},
     "output_type": "execute_result"
    }
   ],
   "source": [
    "df_all_clean.query('quantity_ordered == \"Quantity Ordered\"')"
   ]
  },
  {
   "cell_type": "code",
   "execution_count": 19,
   "metadata": {},
   "outputs": [],
   "source": [
    "df_all_clean.drop(df_all_clean.index[df_all_clean.quantity_ordered == \"Quantity Ordered\"], inplace = True)"
   ]
  },
  {
   "cell_type": "markdown",
   "metadata": {},
   "source": [
    "**Test**"
   ]
  },
  {
   "cell_type": "code",
   "execution_count": 20,
   "metadata": {},
   "outputs": [
    {
     "data": {
      "text/html": [
       "<div>\n",
       "<style scoped>\n",
       "    .dataframe tbody tr th:only-of-type {\n",
       "        vertical-align: middle;\n",
       "    }\n",
       "\n",
       "    .dataframe tbody tr th {\n",
       "        vertical-align: top;\n",
       "    }\n",
       "\n",
       "    .dataframe thead th {\n",
       "        text-align: right;\n",
       "    }\n",
       "</style>\n",
       "<table border=\"1\" class=\"dataframe\">\n",
       "  <thead>\n",
       "    <tr style=\"text-align: right;\">\n",
       "      <th></th>\n",
       "      <th>order_id</th>\n",
       "      <th>product</th>\n",
       "      <th>quantity_ordered</th>\n",
       "      <th>price_each</th>\n",
       "      <th>order_date</th>\n",
       "      <th>purchase_address</th>\n",
       "    </tr>\n",
       "  </thead>\n",
       "  <tbody>\n",
       "  </tbody>\n",
       "</table>\n",
       "</div>"
      ],
      "text/plain": [
       "Empty DataFrame\n",
       "Columns: [order_id, product, quantity_ordered, price_each, order_date, purchase_address]\n",
       "Index: []"
      ]
     },
     "execution_count": 20,
     "metadata": {},
     "output_type": "execute_result"
    }
   ],
   "source": [
    "df_all_clean.query('quantity_ordered == \"Quantity Ordered\"')"
   ]
  },
  {
   "cell_type": "markdown",
   "metadata": {},
   "source": [
    "**5. Convert the data type**"
   ]
  },
  {
   "cell_type": "markdown",
   "metadata": {},
   "source": [
    "**Code**"
   ]
  },
  {
   "cell_type": "code",
   "execution_count": 21,
   "metadata": {},
   "outputs": [],
   "source": [
    "df_all_clean.quantity_ordered = df_all_clean.quantity_ordered.astype(int)\n",
    "df_all_clean.price_each = df_all_clean.price_each.astype(float)"
   ]
  },
  {
   "cell_type": "code",
   "execution_count": 22,
   "metadata": {},
   "outputs": [
    {
     "name": "stderr",
     "output_type": "stream",
     "text": [
      "C:\\Users\\hp\\AppData\\Local\\Temp\\ipykernel_6824\\1633882341.py:1: UserWarning: Could not infer format, so each element will be parsed individually, falling back to `dateutil`. To ensure parsing is consistent and as-expected, please specify a format.\n",
      "  df_all_clean.order_date = pd.to_datetime(df_all_clean.order_date)\n"
     ]
    }
   ],
   "source": [
    "df_all_clean.order_date = pd.to_datetime(df_all_clean.order_date)"
   ]
  },
  {
   "cell_type": "markdown",
   "metadata": {},
   "source": [
    "**Test**"
   ]
  },
  {
   "cell_type": "code",
   "execution_count": 24,
   "metadata": {},
   "outputs": [
    {
     "name": "stdout",
     "output_type": "stream",
     "text": [
      "<class 'pandas.core.frame.DataFrame'>\n",
      "Index: 182732 entries, 0 to 11685\n",
      "Data columns (total 6 columns):\n",
      " #   Column            Non-Null Count   Dtype         \n",
      "---  ------            --------------   -----         \n",
      " 0   order_id          182732 non-null  object        \n",
      " 1   product           182732 non-null  object        \n",
      " 2   quantity_ordered  182732 non-null  int32         \n",
      " 3   price_each        182732 non-null  float64       \n",
      " 4   order_date        182732 non-null  datetime64[ns]\n",
      " 5   purchase_address  182732 non-null  object        \n",
      "dtypes: datetime64[ns](1), float64(1), int32(1), object(3)\n",
      "memory usage: 9.1+ MB\n"
     ]
    }
   ],
   "source": [
    "df_all_clean.info()"
   ]
  },
  {
   "cell_type": "markdown",
   "metadata": {},
   "source": [
    "**6. Create `month` column from `order_date`**"
   ]
  },
  {
   "cell_type": "markdown",
   "metadata": {},
   "source": [
    "**Define**\n",
    "- Create `month` column from `order_date` column using `month_name()` function"
   ]
  },
  {
   "cell_type": "markdown",
   "metadata": {},
   "source": [
    "**Code**"
   ]
  },
  {
   "cell_type": "code",
   "execution_count": 25,
   "metadata": {},
   "outputs": [],
   "source": [
    "df_all_clean['month'] = df_all_clean.order_date.dt.month_name()"
   ]
  },
  {
   "cell_type": "markdown",
   "metadata": {},
   "source": [
    "**Test**"
   ]
  },
  {
   "cell_type": "code",
   "execution_count": 26,
   "metadata": {
    "scrolled": true
   },
   "outputs": [
    {
     "data": {
      "text/html": [
       "<div>\n",
       "<style scoped>\n",
       "    .dataframe tbody tr th:only-of-type {\n",
       "        vertical-align: middle;\n",
       "    }\n",
       "\n",
       "    .dataframe tbody tr th {\n",
       "        vertical-align: top;\n",
       "    }\n",
       "\n",
       "    .dataframe thead th {\n",
       "        text-align: right;\n",
       "    }\n",
       "</style>\n",
       "<table border=\"1\" class=\"dataframe\">\n",
       "  <thead>\n",
       "    <tr style=\"text-align: right;\">\n",
       "      <th></th>\n",
       "      <th>order_id</th>\n",
       "      <th>product</th>\n",
       "      <th>quantity_ordered</th>\n",
       "      <th>price_each</th>\n",
       "      <th>order_date</th>\n",
       "      <th>purchase_address</th>\n",
       "      <th>month</th>\n",
       "    </tr>\n",
       "  </thead>\n",
       "  <tbody>\n",
       "    <tr>\n",
       "      <th>0</th>\n",
       "      <td>176558</td>\n",
       "      <td>USB-C Charging Cable</td>\n",
       "      <td>2</td>\n",
       "      <td>11.95</td>\n",
       "      <td>2019-04-19 08:46:00</td>\n",
       "      <td>917 1st St, Dallas, TX 75001</td>\n",
       "      <td>April</td>\n",
       "    </tr>\n",
       "    <tr>\n",
       "      <th>1</th>\n",
       "      <td>176559</td>\n",
       "      <td>Bose SoundSport Headphones</td>\n",
       "      <td>1</td>\n",
       "      <td>99.99</td>\n",
       "      <td>2019-04-07 22:30:00</td>\n",
       "      <td>682 Chestnut St, Boston, MA 02215</td>\n",
       "      <td>April</td>\n",
       "    </tr>\n",
       "    <tr>\n",
       "      <th>2</th>\n",
       "      <td>176560</td>\n",
       "      <td>Google Phone</td>\n",
       "      <td>1</td>\n",
       "      <td>600.00</td>\n",
       "      <td>2019-04-12 14:38:00</td>\n",
       "      <td>669 Spruce St, Los Angeles, CA 90001</td>\n",
       "      <td>April</td>\n",
       "    </tr>\n",
       "    <tr>\n",
       "      <th>3</th>\n",
       "      <td>176560</td>\n",
       "      <td>Wired Headphones</td>\n",
       "      <td>1</td>\n",
       "      <td>11.99</td>\n",
       "      <td>2019-04-12 14:38:00</td>\n",
       "      <td>669 Spruce St, Los Angeles, CA 90001</td>\n",
       "      <td>April</td>\n",
       "    </tr>\n",
       "    <tr>\n",
       "      <th>4</th>\n",
       "      <td>176561</td>\n",
       "      <td>Wired Headphones</td>\n",
       "      <td>1</td>\n",
       "      <td>11.99</td>\n",
       "      <td>2019-04-30 09:27:00</td>\n",
       "      <td>333 8th St, Los Angeles, CA 90001</td>\n",
       "      <td>April</td>\n",
       "    </tr>\n",
       "  </tbody>\n",
       "</table>\n",
       "</div>"
      ],
      "text/plain": [
       "  order_id                     product  quantity_ordered  price_each  \\\n",
       "0   176558        USB-C Charging Cable                 2       11.95   \n",
       "1   176559  Bose SoundSport Headphones                 1       99.99   \n",
       "2   176560                Google Phone                 1      600.00   \n",
       "3   176560            Wired Headphones                 1       11.99   \n",
       "4   176561            Wired Headphones                 1       11.99   \n",
       "\n",
       "           order_date                      purchase_address  month  \n",
       "0 2019-04-19 08:46:00          917 1st St, Dallas, TX 75001  April  \n",
       "1 2019-04-07 22:30:00     682 Chestnut St, Boston, MA 02215  April  \n",
       "2 2019-04-12 14:38:00  669 Spruce St, Los Angeles, CA 90001  April  \n",
       "3 2019-04-12 14:38:00  669 Spruce St, Los Angeles, CA 90001  April  \n",
       "4 2019-04-30 09:27:00     333 8th St, Los Angeles, CA 90001  April  "
      ]
     },
     "execution_count": 26,
     "metadata": {},
     "output_type": "execute_result"
    }
   ],
   "source": [
    "df_all_clean.head()"
   ]
  },
  {
   "cell_type": "markdown",
   "metadata": {},
   "source": [
    "**7. Create `total_sales` column**"
   ]
  },
  {
   "cell_type": "markdown",
   "metadata": {},
   "source": [
    "**Define**\n",
    "- Create `total_sales` column\n",
    "- `total_price = quantity_ordered * price_each`"
   ]
  },
  {
   "cell_type": "markdown",
   "metadata": {},
   "source": [
    "**Code**"
   ]
  },
  {
   "cell_type": "code",
   "execution_count": 22,
   "metadata": {},
   "outputs": [
    {
     "ename": "NameError",
     "evalue": "name 'df_all_clean' is not defined",
     "output_type": "error",
     "traceback": [
      "\u001b[1;31m---------------------------------------------------------------------------\u001b[0m",
      "\u001b[1;31mNameError\u001b[0m                                 Traceback (most recent call last)",
      "Cell \u001b[1;32mIn[22], line 1\u001b[0m\n\u001b[1;32m----> 1\u001b[0m df_all_clean[\u001b[38;5;124m'\u001b[39m\u001b[38;5;124mtotal_sales\u001b[39m\u001b[38;5;124m'\u001b[39m] \u001b[38;5;241m=\u001b[39m df_all_clean\u001b[38;5;241m.\u001b[39mquantity_ordered \u001b[38;5;241m*\u001b[39m df_all_clean\u001b[38;5;241m.\u001b[39mprice_each\n",
      "\u001b[1;31mNameError\u001b[0m: name 'df_all_clean' is not defined"
     ]
    }
   ],
   "source": [
    "df_all_clean['total_sales'] = df_all_clean.quantity_ordered * df_all_clean.price_each"
   ]
  },
  {
   "cell_type": "markdown",
   "metadata": {},
   "source": [
    "**Test**"
   ]
  },
  {
   "cell_type": "code",
   "execution_count": 28,
   "metadata": {},
   "outputs": [
    {
     "data": {
      "text/html": [
       "<div>\n",
       "<style scoped>\n",
       "    .dataframe tbody tr th:only-of-type {\n",
       "        vertical-align: middle;\n",
       "    }\n",
       "\n",
       "    .dataframe tbody tr th {\n",
       "        vertical-align: top;\n",
       "    }\n",
       "\n",
       "    .dataframe thead th {\n",
       "        text-align: right;\n",
       "    }\n",
       "</style>\n",
       "<table border=\"1\" class=\"dataframe\">\n",
       "  <thead>\n",
       "    <tr style=\"text-align: right;\">\n",
       "      <th></th>\n",
       "      <th>order_id</th>\n",
       "      <th>product</th>\n",
       "      <th>quantity_ordered</th>\n",
       "      <th>price_each</th>\n",
       "      <th>order_date</th>\n",
       "      <th>purchase_address</th>\n",
       "      <th>month</th>\n",
       "      <th>total_sales</th>\n",
       "    </tr>\n",
       "  </thead>\n",
       "  <tbody>\n",
       "    <tr>\n",
       "      <th>4557</th>\n",
       "      <td>198418</td>\n",
       "      <td>Bose SoundSport Headphones</td>\n",
       "      <td>1</td>\n",
       "      <td>99.99</td>\n",
       "      <td>2019-05-30 15:45:00</td>\n",
       "      <td>959 Chestnut St, San Francisco, CA 94016</td>\n",
       "      <td>May</td>\n",
       "      <td>99.99</td>\n",
       "    </tr>\n",
       "    <tr>\n",
       "      <th>6455</th>\n",
       "      <td>242860</td>\n",
       "      <td>20in Monitor</td>\n",
       "      <td>1</td>\n",
       "      <td>109.99</td>\n",
       "      <td>2019-08-21 11:11:00</td>\n",
       "      <td>683 Sunset St, San Francisco, CA 94016</td>\n",
       "      <td>August</td>\n",
       "      <td>109.99</td>\n",
       "    </tr>\n",
       "    <tr>\n",
       "      <th>8408</th>\n",
       "      <td>217942</td>\n",
       "      <td>Apple Airpods Headphones</td>\n",
       "      <td>1</td>\n",
       "      <td>150.00</td>\n",
       "      <td>2019-06-02 12:50:00</td>\n",
       "      <td>722 Lakeview St, Boston, MA 02215</td>\n",
       "      <td>June</td>\n",
       "      <td>150.00</td>\n",
       "    </tr>\n",
       "    <tr>\n",
       "      <th>4219</th>\n",
       "      <td>252205</td>\n",
       "      <td>Wired Headphones</td>\n",
       "      <td>1</td>\n",
       "      <td>11.99</td>\n",
       "      <td>2019-09-11 16:43:00</td>\n",
       "      <td>339 10th St, San Francisco, CA 94016</td>\n",
       "      <td>September</td>\n",
       "      <td>11.99</td>\n",
       "    </tr>\n",
       "    <tr>\n",
       "      <th>1242</th>\n",
       "      <td>249348</td>\n",
       "      <td>Bose SoundSport Headphones</td>\n",
       "      <td>1</td>\n",
       "      <td>99.99</td>\n",
       "      <td>2019-09-13 11:28:00</td>\n",
       "      <td>761 River St, New York City, NY 10001</td>\n",
       "      <td>September</td>\n",
       "      <td>99.99</td>\n",
       "    </tr>\n",
       "  </tbody>\n",
       "</table>\n",
       "</div>"
      ],
      "text/plain": [
       "     order_id                     product  quantity_ordered  price_each  \\\n",
       "4557   198418  Bose SoundSport Headphones                 1       99.99   \n",
       "6455   242860                20in Monitor                 1      109.99   \n",
       "8408   217942    Apple Airpods Headphones                 1      150.00   \n",
       "4219   252205            Wired Headphones                 1       11.99   \n",
       "1242   249348  Bose SoundSport Headphones                 1       99.99   \n",
       "\n",
       "              order_date                          purchase_address      month  \\\n",
       "4557 2019-05-30 15:45:00  959 Chestnut St, San Francisco, CA 94016        May   \n",
       "6455 2019-08-21 11:11:00    683 Sunset St, San Francisco, CA 94016     August   \n",
       "8408 2019-06-02 12:50:00         722 Lakeview St, Boston, MA 02215       June   \n",
       "4219 2019-09-11 16:43:00      339 10th St, San Francisco, CA 94016  September   \n",
       "1242 2019-09-13 11:28:00     761 River St, New York City, NY 10001  September   \n",
       "\n",
       "      total_sales  \n",
       "4557        99.99  \n",
       "6455       109.99  \n",
       "8408       150.00  \n",
       "4219        11.99  \n",
       "1242        99.99  "
      ]
     },
     "execution_count": 28,
     "metadata": {},
     "output_type": "execute_result"
    }
   ],
   "source": [
    "df_all_clean.sample(5)"
   ]
  },
  {
   "cell_type": "markdown",
   "metadata": {},
   "source": [
    "**8. Create `city` column**"
   ]
  },
  {
   "cell_type": "markdown",
   "metadata": {},
   "source": [
    "**Define**\n",
    "- Extact city name from purchase_address using regular expression"
   ]
  },
  {
   "cell_type": "code",
   "execution_count": 29,
   "metadata": {},
   "outputs": [
    {
     "data": {
      "text/plain": [
       "7221        848 Wilson St, San Francisco, CA 94016\n",
       "5782                192 14th St, Atlanta, GA 30301\n",
       "8854        930 Walnut St, San Francisco, CA 94016\n",
       "7583                  192 4th St, Boston, MA 02215\n",
       "356      106 Jefferson St, San Francisco, CA 94016\n",
       "14125       892 Meadow St, New York City, NY 10001\n",
       "8582                   85 6th St, Austin, TX 73301\n",
       "8189            606 Hickory St, Portland, OR 97035\n",
       "6419            279 11th St, Los Angeles, CA 90001\n",
       "11784           550 Hickory St, Portland, OR 97035\n",
       "Name: purchase_address, dtype: object"
      ]
     },
     "execution_count": 29,
     "metadata": {},
     "output_type": "execute_result"
    }
   ],
   "source": [
    "df_all_clean.sample(10)['purchase_address']"
   ]
  },
  {
   "cell_type": "markdown",
   "metadata": {},
   "source": [
    "**Code**"
   ]
  },
  {
   "cell_type": "code",
   "execution_count": 30,
   "metadata": {},
   "outputs": [
    {
     "name": "stdout",
     "output_type": "stream",
     "text": [
      "['Atlanta, GA'] ['New York City, NY'] ['Los Angeles, CA']\n"
     ]
    }
   ],
   "source": [
    "# test\n",
    "test_pattern = re.compile(r'(?:St,\\s)(\\w+\\s?\\w+\\s?\\w+\\s?,\\s\\w+)')\n",
    "\n",
    "test_text1 = \"23 Johnson St, Atlanta, GA 30301\"\n",
    "test_text2 = \"854 Adams St, New York City, NY 10001\"\n",
    "test_text3 = \"315 Cedar St, Los Angeles, CA 90001\"\n",
    "\n",
    "resutl1 = re.findall(test_pattern, test_text1)\n",
    "resutl2 = re.findall(test_pattern, test_text2)\n",
    "resutl3 = re.findall(test_pattern, test_text3)\n",
    "\n",
    "print(resutl1, resutl2, resutl3)"
   ]
  },
  {
   "cell_type": "code",
   "execution_count": 31,
   "metadata": {},
   "outputs": [],
   "source": [
    "pattern = r'(?:St,\\s)(\\w+\\s?\\w+\\s?\\w+\\s?,\\s\\w+)'\n",
    "df_all_clean['city'] = df_all_clean.purchase_address.str.extract(pattern)"
   ]
  },
  {
   "cell_type": "markdown",
   "metadata": {},
   "source": [
    "**Test**"
   ]
  },
  {
   "cell_type": "code",
   "execution_count": 32,
   "metadata": {},
   "outputs": [
    {
     "data": {
      "text/html": [
       "<div>\n",
       "<style scoped>\n",
       "    .dataframe tbody tr th:only-of-type {\n",
       "        vertical-align: middle;\n",
       "    }\n",
       "\n",
       "    .dataframe tbody tr th {\n",
       "        vertical-align: top;\n",
       "    }\n",
       "\n",
       "    .dataframe thead th {\n",
       "        text-align: right;\n",
       "    }\n",
       "</style>\n",
       "<table border=\"1\" class=\"dataframe\">\n",
       "  <thead>\n",
       "    <tr style=\"text-align: right;\">\n",
       "      <th></th>\n",
       "      <th>purchase_address</th>\n",
       "      <th>city</th>\n",
       "    </tr>\n",
       "  </thead>\n",
       "  <tbody>\n",
       "    <tr>\n",
       "      <th>6255</th>\n",
       "      <td>793 West St, Dallas, TX 75001</td>\n",
       "      <td>Dallas, TX</td>\n",
       "    </tr>\n",
       "    <tr>\n",
       "      <th>177</th>\n",
       "      <td>583 Adams St, Los Angeles, CA 90001</td>\n",
       "      <td>Los Angeles, CA</td>\n",
       "    </tr>\n",
       "    <tr>\n",
       "      <th>4893</th>\n",
       "      <td>415 14th St, Seattle, WA 98101</td>\n",
       "      <td>Seattle, WA</td>\n",
       "    </tr>\n",
       "    <tr>\n",
       "      <th>11194</th>\n",
       "      <td>511 Park St, New York City, NY 10001</td>\n",
       "      <td>New York City, NY</td>\n",
       "    </tr>\n",
       "    <tr>\n",
       "      <th>694</th>\n",
       "      <td>755 Adams St, Seattle, WA 98101</td>\n",
       "      <td>Seattle, WA</td>\n",
       "    </tr>\n",
       "    <tr>\n",
       "      <th>10826</th>\n",
       "      <td>254 North St, New York City, NY 10001</td>\n",
       "      <td>New York City, NY</td>\n",
       "    </tr>\n",
       "    <tr>\n",
       "      <th>19978</th>\n",
       "      <td>946 Lincoln St, New York City, NY 10001</td>\n",
       "      <td>New York City, NY</td>\n",
       "    </tr>\n",
       "    <tr>\n",
       "      <th>757</th>\n",
       "      <td>10 4th St, Seattle, WA 98101</td>\n",
       "      <td>Seattle, WA</td>\n",
       "    </tr>\n",
       "    <tr>\n",
       "      <th>3232</th>\n",
       "      <td>591 12th St, San Francisco, CA 94016</td>\n",
       "      <td>San Francisco, CA</td>\n",
       "    </tr>\n",
       "    <tr>\n",
       "      <th>4699</th>\n",
       "      <td>346 6th St, New York City, NY 10001</td>\n",
       "      <td>New York City, NY</td>\n",
       "    </tr>\n",
       "    <tr>\n",
       "      <th>5620</th>\n",
       "      <td>347 Willow St, Seattle, WA 98101</td>\n",
       "      <td>Seattle, WA</td>\n",
       "    </tr>\n",
       "    <tr>\n",
       "      <th>6737</th>\n",
       "      <td>497 Hill St, Boston, MA 02215</td>\n",
       "      <td>Boston, MA</td>\n",
       "    </tr>\n",
       "    <tr>\n",
       "      <th>1953</th>\n",
       "      <td>205 Forest St, Seattle, WA 98101</td>\n",
       "      <td>Seattle, WA</td>\n",
       "    </tr>\n",
       "    <tr>\n",
       "      <th>10006</th>\n",
       "      <td>543 Johnson St, Dallas, TX 75001</td>\n",
       "      <td>Dallas, TX</td>\n",
       "    </tr>\n",
       "    <tr>\n",
       "      <th>3849</th>\n",
       "      <td>514 2nd St, Los Angeles, CA 90001</td>\n",
       "      <td>Los Angeles, CA</td>\n",
       "    </tr>\n",
       "    <tr>\n",
       "      <th>2043</th>\n",
       "      <td>392 Center St, Atlanta, GA 30301</td>\n",
       "      <td>Atlanta, GA</td>\n",
       "    </tr>\n",
       "    <tr>\n",
       "      <th>5703</th>\n",
       "      <td>778 Jackson St, Seattle, WA 98101</td>\n",
       "      <td>Seattle, WA</td>\n",
       "    </tr>\n",
       "    <tr>\n",
       "      <th>4580</th>\n",
       "      <td>183 Maple St, New York City, NY 10001</td>\n",
       "      <td>New York City, NY</td>\n",
       "    </tr>\n",
       "    <tr>\n",
       "      <th>10354</th>\n",
       "      <td>335 River St, Portland, OR 97035</td>\n",
       "      <td>Portland, OR</td>\n",
       "    </tr>\n",
       "    <tr>\n",
       "      <th>16695</th>\n",
       "      <td>413 Ridge St, Seattle, WA 98101</td>\n",
       "      <td>Seattle, WA</td>\n",
       "    </tr>\n",
       "  </tbody>\n",
       "</table>\n",
       "</div>"
      ],
      "text/plain": [
       "                              purchase_address               city\n",
       "6255             793 West St, Dallas, TX 75001         Dallas, TX\n",
       "177        583 Adams St, Los Angeles, CA 90001    Los Angeles, CA\n",
       "4893            415 14th St, Seattle, WA 98101        Seattle, WA\n",
       "11194     511 Park St, New York City, NY 10001  New York City, NY\n",
       "694            755 Adams St, Seattle, WA 98101        Seattle, WA\n",
       "10826    254 North St, New York City, NY 10001  New York City, NY\n",
       "19978  946 Lincoln St, New York City, NY 10001  New York City, NY\n",
       "757               10 4th St, Seattle, WA 98101        Seattle, WA\n",
       "3232      591 12th St, San Francisco, CA 94016  San Francisco, CA\n",
       "4699       346 6th St, New York City, NY 10001  New York City, NY\n",
       "5620          347 Willow St, Seattle, WA 98101        Seattle, WA\n",
       "6737             497 Hill St, Boston, MA 02215         Boston, MA\n",
       "1953          205 Forest St, Seattle, WA 98101        Seattle, WA\n",
       "10006         543 Johnson St, Dallas, TX 75001         Dallas, TX\n",
       "3849         514 2nd St, Los Angeles, CA 90001    Los Angeles, CA\n",
       "2043          392 Center St, Atlanta, GA 30301        Atlanta, GA\n",
       "5703         778 Jackson St, Seattle, WA 98101        Seattle, WA\n",
       "4580     183 Maple St, New York City, NY 10001  New York City, NY\n",
       "10354         335 River St, Portland, OR 97035       Portland, OR\n",
       "16695          413 Ridge St, Seattle, WA 98101        Seattle, WA"
      ]
     },
     "execution_count": 32,
     "metadata": {},
     "output_type": "execute_result"
    }
   ],
   "source": [
    "df_all_clean.sample(20)[['purchase_address', 'city']]"
   ]
  },
  {
   "cell_type": "markdown",
   "metadata": {},
   "source": [
    "**Another way**\n",
    "Use `apply()` method on df_all.purchase_address with `lambda`\n",
    "```\n",
    "df_all['city'] = df_all.purchase_address.apply(lambda x: x.split(',')[1])\n",
    "```"
   ]
  },
  {
   "cell_type": "markdown",
   "metadata": {},
   "source": [
    "**9. Create `hour` column**"
   ]
  },
  {
   "cell_type": "markdown",
   "metadata": {},
   "source": [
    "**Define**\n",
    "- Extract time from `order_date` column using `datetime.dt.hour`"
   ]
  },
  {
   "cell_type": "code",
   "execution_count": 33,
   "metadata": {},
   "outputs": [],
   "source": [
    "df_all_clean['hour'] = df_all_clean.order_date.dt.hour"
   ]
  },
  {
   "cell_type": "markdown",
   "metadata": {},
   "source": [
    "**Test**"
   ]
  },
  {
   "cell_type": "code",
   "execution_count": 34,
   "metadata": {},
   "outputs": [
    {
     "data": {
      "text/html": [
       "<div>\n",
       "<style scoped>\n",
       "    .dataframe tbody tr th:only-of-type {\n",
       "        vertical-align: middle;\n",
       "    }\n",
       "\n",
       "    .dataframe tbody tr th {\n",
       "        vertical-align: top;\n",
       "    }\n",
       "\n",
       "    .dataframe thead th {\n",
       "        text-align: right;\n",
       "    }\n",
       "</style>\n",
       "<table border=\"1\" class=\"dataframe\">\n",
       "  <thead>\n",
       "    <tr style=\"text-align: right;\">\n",
       "      <th></th>\n",
       "      <th>order_date</th>\n",
       "      <th>hour</th>\n",
       "    </tr>\n",
       "  </thead>\n",
       "  <tbody>\n",
       "    <tr>\n",
       "      <th>10065</th>\n",
       "      <td>2019-07-09 21:12:00</td>\n",
       "      <td>21</td>\n",
       "    </tr>\n",
       "    <tr>\n",
       "      <th>8740</th>\n",
       "      <td>2019-06-26 14:23:00</td>\n",
       "      <td>14</td>\n",
       "    </tr>\n",
       "    <tr>\n",
       "      <th>14113</th>\n",
       "      <td>2019-10-15 21:08:00</td>\n",
       "      <td>21</td>\n",
       "    </tr>\n",
       "    <tr>\n",
       "      <th>3438</th>\n",
       "      <td>2019-09-02 11:03:00</td>\n",
       "      <td>11</td>\n",
       "    </tr>\n",
       "    <tr>\n",
       "      <th>8785</th>\n",
       "      <td>2019-03-16 11:22:00</td>\n",
       "      <td>11</td>\n",
       "    </tr>\n",
       "    <tr>\n",
       "      <th>10924</th>\n",
       "      <td>2019-04-21 17:09:00</td>\n",
       "      <td>17</td>\n",
       "    </tr>\n",
       "    <tr>\n",
       "      <th>9591</th>\n",
       "      <td>2019-10-05 00:34:00</td>\n",
       "      <td>0</td>\n",
       "    </tr>\n",
       "    <tr>\n",
       "      <th>11091</th>\n",
       "      <td>2019-04-22 19:31:00</td>\n",
       "      <td>19</td>\n",
       "    </tr>\n",
       "    <tr>\n",
       "      <th>17562</th>\n",
       "      <td>2019-12-21 15:40:00</td>\n",
       "      <td>15</td>\n",
       "    </tr>\n",
       "    <tr>\n",
       "      <th>1881</th>\n",
       "      <td>2019-05-24 12:06:00</td>\n",
       "      <td>12</td>\n",
       "    </tr>\n",
       "  </tbody>\n",
       "</table>\n",
       "</div>"
      ],
      "text/plain": [
       "               order_date  hour\n",
       "10065 2019-07-09 21:12:00    21\n",
       "8740  2019-06-26 14:23:00    14\n",
       "14113 2019-10-15 21:08:00    21\n",
       "3438  2019-09-02 11:03:00    11\n",
       "8785  2019-03-16 11:22:00    11\n",
       "10924 2019-04-21 17:09:00    17\n",
       "9591  2019-10-05 00:34:00     0\n",
       "11091 2019-04-22 19:31:00    19\n",
       "17562 2019-12-21 15:40:00    15\n",
       "1881  2019-05-24 12:06:00    12"
      ]
     },
     "execution_count": 34,
     "metadata": {},
     "output_type": "execute_result"
    }
   ],
   "source": [
    "df_all_clean.sample(10)[['order_date', 'hour']]"
   ]
  },
  {
   "cell_type": "markdown",
   "metadata": {},
   "source": [
    "---\n",
    "<a id='store'></a>\n",
    "## 5. Storing cleaned data"
   ]
  },
  {
   "cell_type": "code",
   "execution_count": 35,
   "metadata": {},
   "outputs": [],
   "source": [
    "df_all_clean.to_csv('./all_data_master.csv', index=False)"
   ]
  },
  {
   "cell_type": "code",
   "execution_count": 36,
   "metadata": {},
   "outputs": [
    {
     "data": {
      "text/html": [
       "<div>\n",
       "<style scoped>\n",
       "    .dataframe tbody tr th:only-of-type {\n",
       "        vertical-align: middle;\n",
       "    }\n",
       "\n",
       "    .dataframe tbody tr th {\n",
       "        vertical-align: top;\n",
       "    }\n",
       "\n",
       "    .dataframe thead th {\n",
       "        text-align: right;\n",
       "    }\n",
       "</style>\n",
       "<table border=\"1\" class=\"dataframe\">\n",
       "  <thead>\n",
       "    <tr style=\"text-align: right;\">\n",
       "      <th></th>\n",
       "      <th>order_id</th>\n",
       "      <th>product</th>\n",
       "      <th>quantity_ordered</th>\n",
       "      <th>price_each</th>\n",
       "      <th>order_date</th>\n",
       "      <th>purchase_address</th>\n",
       "      <th>month</th>\n",
       "      <th>total_sales</th>\n",
       "      <th>city</th>\n",
       "      <th>hour</th>\n",
       "    </tr>\n",
       "  </thead>\n",
       "  <tbody>\n",
       "    <tr>\n",
       "      <th>0</th>\n",
       "      <td>176558</td>\n",
       "      <td>USB-C Charging Cable</td>\n",
       "      <td>2</td>\n",
       "      <td>11.95</td>\n",
       "      <td>2019-04-19 08:46:00</td>\n",
       "      <td>917 1st St, Dallas, TX 75001</td>\n",
       "      <td>April</td>\n",
       "      <td>23.90</td>\n",
       "      <td>Dallas, TX</td>\n",
       "      <td>8</td>\n",
       "    </tr>\n",
       "    <tr>\n",
       "      <th>1</th>\n",
       "      <td>176559</td>\n",
       "      <td>Bose SoundSport Headphones</td>\n",
       "      <td>1</td>\n",
       "      <td>99.99</td>\n",
       "      <td>2019-04-07 22:30:00</td>\n",
       "      <td>682 Chestnut St, Boston, MA 02215</td>\n",
       "      <td>April</td>\n",
       "      <td>99.99</td>\n",
       "      <td>Boston, MA</td>\n",
       "      <td>22</td>\n",
       "    </tr>\n",
       "    <tr>\n",
       "      <th>2</th>\n",
       "      <td>176560</td>\n",
       "      <td>Google Phone</td>\n",
       "      <td>1</td>\n",
       "      <td>600.00</td>\n",
       "      <td>2019-04-12 14:38:00</td>\n",
       "      <td>669 Spruce St, Los Angeles, CA 90001</td>\n",
       "      <td>April</td>\n",
       "      <td>600.00</td>\n",
       "      <td>Los Angeles, CA</td>\n",
       "      <td>14</td>\n",
       "    </tr>\n",
       "    <tr>\n",
       "      <th>3</th>\n",
       "      <td>176560</td>\n",
       "      <td>Wired Headphones</td>\n",
       "      <td>1</td>\n",
       "      <td>11.99</td>\n",
       "      <td>2019-04-12 14:38:00</td>\n",
       "      <td>669 Spruce St, Los Angeles, CA 90001</td>\n",
       "      <td>April</td>\n",
       "      <td>11.99</td>\n",
       "      <td>Los Angeles, CA</td>\n",
       "      <td>14</td>\n",
       "    </tr>\n",
       "    <tr>\n",
       "      <th>4</th>\n",
       "      <td>176561</td>\n",
       "      <td>Wired Headphones</td>\n",
       "      <td>1</td>\n",
       "      <td>11.99</td>\n",
       "      <td>2019-04-30 09:27:00</td>\n",
       "      <td>333 8th St, Los Angeles, CA 90001</td>\n",
       "      <td>April</td>\n",
       "      <td>11.99</td>\n",
       "      <td>Los Angeles, CA</td>\n",
       "      <td>9</td>\n",
       "    </tr>\n",
       "  </tbody>\n",
       "</table>\n",
       "</div>"
      ],
      "text/plain": [
       "   order_id                     product  quantity_ordered  price_each  \\\n",
       "0    176558        USB-C Charging Cable                 2       11.95   \n",
       "1    176559  Bose SoundSport Headphones                 1       99.99   \n",
       "2    176560                Google Phone                 1      600.00   \n",
       "3    176560            Wired Headphones                 1       11.99   \n",
       "4    176561            Wired Headphones                 1       11.99   \n",
       "\n",
       "            order_date                      purchase_address  month  \\\n",
       "0  2019-04-19 08:46:00          917 1st St, Dallas, TX 75001  April   \n",
       "1  2019-04-07 22:30:00     682 Chestnut St, Boston, MA 02215  April   \n",
       "2  2019-04-12 14:38:00  669 Spruce St, Los Angeles, CA 90001  April   \n",
       "3  2019-04-12 14:38:00  669 Spruce St, Los Angeles, CA 90001  April   \n",
       "4  2019-04-30 09:27:00     333 8th St, Los Angeles, CA 90001  April   \n",
       "\n",
       "   total_sales             city  hour  \n",
       "0        23.90       Dallas, TX     8  \n",
       "1        99.99       Boston, MA    22  \n",
       "2       600.00  Los Angeles, CA    14  \n",
       "3        11.99  Los Angeles, CA    14  \n",
       "4        11.99  Los Angeles, CA     9  "
      ]
     },
     "execution_count": 36,
     "metadata": {},
     "output_type": "execute_result"
    }
   ],
   "source": [
    "# load cleaned csv file\n",
    "df = pd.read_csv('./all_data_master.csv')\n",
    "df.head()"
   ]
  },
  {
   "cell_type": "code",
   "execution_count": 37,
   "metadata": {},
   "outputs": [
    {
     "name": "stdout",
     "output_type": "stream",
     "text": [
      "<class 'pandas.core.frame.DataFrame'>\n",
      "RangeIndex: 182732 entries, 0 to 182731\n",
      "Data columns (total 10 columns):\n",
      " #   Column            Non-Null Count   Dtype         \n",
      "---  ------            --------------   -----         \n",
      " 0   order_id          182732 non-null  int64         \n",
      " 1   product           182732 non-null  object        \n",
      " 2   quantity_ordered  182732 non-null  int64         \n",
      " 3   price_each        182732 non-null  float64       \n",
      " 4   order_date        182732 non-null  datetime64[ns]\n",
      " 5   purchase_address  182732 non-null  object        \n",
      " 6   month             182732 non-null  object        \n",
      " 7   total_sales       182732 non-null  float64       \n",
      " 8   city              182732 non-null  object        \n",
      " 9   hour              182732 non-null  int64         \n",
      "dtypes: datetime64[ns](1), float64(2), int64(3), object(4)\n",
      "memory usage: 13.9+ MB\n"
     ]
    }
   ],
   "source": [
    "# fixing order_date type\n",
    "df.order_date = pd.to_datetime(df.order_date)\n",
    "df.info()"
   ]
  },
  {
   "cell_type": "markdown",
   "metadata": {},
   "source": [
    "---\n",
    "<a id='analyze-visaulize'></a>\n",
    "## 6. Analyze and Visualization"
   ]
  },
  {
   "cell_type": "markdown",
   "metadata": {},
   "source": [
    "**We are trying to answer these questions:**\n",
    "1. What was the best month for sales? How much was earned that month?\n",
    "2. What city sold the most product?\n",
    "3. What time should we display advertisemens to maximize the likelihood of customer’s buying product?\n",
    "4. What products are most often sold together?\n",
    "5. What product sold the most? Why do you think it sold the most?"
   ]
  },
  {
   "cell_type": "markdown",
   "metadata": {},
   "source": [
    "---\n",
    "### Q1: What was the best month for sales? How much was earned that month?"
   ]
  },
  {
   "cell_type": "markdown",
   "metadata": {},
   "source": [
    "**We can answer this question by plotting bar chart between months and max sales.**"
   ]
  },
  {
   "cell_type": "code",
   "execution_count": 38,
   "metadata": {},
   "outputs": [
    {
     "data": {
      "text/html": [
       "<div>\n",
       "<style scoped>\n",
       "    .dataframe tbody tr th:only-of-type {\n",
       "        vertical-align: middle;\n",
       "    }\n",
       "\n",
       "    .dataframe tbody tr th {\n",
       "        vertical-align: top;\n",
       "    }\n",
       "\n",
       "    .dataframe thead th {\n",
       "        text-align: right;\n",
       "    }\n",
       "</style>\n",
       "<table border=\"1\" class=\"dataframe\">\n",
       "  <thead>\n",
       "    <tr style=\"text-align: right;\">\n",
       "      <th></th>\n",
       "      <th>order_id</th>\n",
       "      <th>product</th>\n",
       "      <th>quantity_ordered</th>\n",
       "      <th>price_each</th>\n",
       "      <th>order_date</th>\n",
       "      <th>purchase_address</th>\n",
       "      <th>total_sales</th>\n",
       "      <th>city</th>\n",
       "      <th>hour</th>\n",
       "    </tr>\n",
       "    <tr>\n",
       "      <th>month</th>\n",
       "      <th></th>\n",
       "      <th></th>\n",
       "      <th></th>\n",
       "      <th></th>\n",
       "      <th></th>\n",
       "      <th></th>\n",
       "      <th></th>\n",
       "      <th></th>\n",
       "      <th></th>\n",
       "    </tr>\n",
       "  </thead>\n",
       "  <tbody>\n",
       "    <tr>\n",
       "      <th>April</th>\n",
       "      <td>194094</td>\n",
       "      <td>iPhone</td>\n",
       "      <td>7</td>\n",
       "      <td>1700.0</td>\n",
       "      <td>2019-04-30 23:49:00</td>\n",
       "      <td>999 Pine St, Boston, MA 02215</td>\n",
       "      <td>3400.00</td>\n",
       "      <td>Seattle, WA</td>\n",
       "      <td>23</td>\n",
       "    </tr>\n",
       "    <tr>\n",
       "      <th>June</th>\n",
       "      <td>222909</td>\n",
       "      <td>iPhone</td>\n",
       "      <td>9</td>\n",
       "      <td>1700.0</td>\n",
       "      <td>2019-06-30 23:56:00</td>\n",
       "      <td>999 Wilson St, San Francisco, CA 94016</td>\n",
       "      <td>3400.00</td>\n",
       "      <td>Seattle, WA</td>\n",
       "      <td>23</td>\n",
       "    </tr>\n",
       "    <tr>\n",
       "      <th>May</th>\n",
       "      <td>209920</td>\n",
       "      <td>iPhone</td>\n",
       "      <td>7</td>\n",
       "      <td>1700.0</td>\n",
       "      <td>2019-05-31 23:49:00</td>\n",
       "      <td>999 Wilson St, Portland, OR 97035</td>\n",
       "      <td>3400.00</td>\n",
       "      <td>Seattle, WA</td>\n",
       "      <td>23</td>\n",
       "    </tr>\n",
       "    <tr>\n",
       "      <th>January</th>\n",
       "      <td>319366</td>\n",
       "      <td>iPhone</td>\n",
       "      <td>7</td>\n",
       "      <td>1700.0</td>\n",
       "      <td>2020-01-01 05:13:00</td>\n",
       "      <td>999 Walnut St, San Francisco, CA 94016</td>\n",
       "      <td>1999.98</td>\n",
       "      <td>Seattle, WA</td>\n",
       "      <td>23</td>\n",
       "    </tr>\n",
       "    <tr>\n",
       "      <th>October</th>\n",
       "      <td>278796</td>\n",
       "      <td>iPhone</td>\n",
       "      <td>8</td>\n",
       "      <td>1700.0</td>\n",
       "      <td>2019-10-31 23:51:00</td>\n",
       "      <td>999 West St, Boston, MA 02215</td>\n",
       "      <td>1999.98</td>\n",
       "      <td>Seattle, WA</td>\n",
       "      <td>23</td>\n",
       "    </tr>\n",
       "    <tr>\n",
       "      <th>August</th>\n",
       "      <td>248150</td>\n",
       "      <td>iPhone</td>\n",
       "      <td>8</td>\n",
       "      <td>1700.0</td>\n",
       "      <td>2019-08-31 23:57:00</td>\n",
       "      <td>999 Sunset St, San Francisco, CA 94016</td>\n",
       "      <td>1700.00</td>\n",
       "      <td>Seattle, WA</td>\n",
       "      <td>23</td>\n",
       "    </tr>\n",
       "    <tr>\n",
       "      <th>December</th>\n",
       "      <td>319670</td>\n",
       "      <td>iPhone</td>\n",
       "      <td>7</td>\n",
       "      <td>1700.0</td>\n",
       "      <td>2019-12-31 23:53:00</td>\n",
       "      <td>999 West St, Los Angeles, CA 90001</td>\n",
       "      <td>1700.00</td>\n",
       "      <td>Seattle, WA</td>\n",
       "      <td>23</td>\n",
       "    </tr>\n",
       "    <tr>\n",
       "      <th>February</th>\n",
       "      <td>162008</td>\n",
       "      <td>iPhone</td>\n",
       "      <td>7</td>\n",
       "      <td>1700.0</td>\n",
       "      <td>2019-02-28 23:59:00</td>\n",
       "      <td>999 Wilson St, New York City, NY 10001</td>\n",
       "      <td>1700.00</td>\n",
       "      <td>Seattle, WA</td>\n",
       "      <td>23</td>\n",
       "    </tr>\n",
       "    <tr>\n",
       "      <th>July</th>\n",
       "      <td>236669</td>\n",
       "      <td>iPhone</td>\n",
       "      <td>9</td>\n",
       "      <td>1700.0</td>\n",
       "      <td>2019-07-31 23:43:00</td>\n",
       "      <td>999 Willow St, Seattle, WA 98101</td>\n",
       "      <td>1700.00</td>\n",
       "      <td>Seattle, WA</td>\n",
       "      <td>23</td>\n",
       "    </tr>\n",
       "    <tr>\n",
       "      <th>March</th>\n",
       "      <td>176557</td>\n",
       "      <td>iPhone</td>\n",
       "      <td>7</td>\n",
       "      <td>1700.0</td>\n",
       "      <td>2019-03-31 23:46:00</td>\n",
       "      <td>999 Sunset St, Los Angeles, CA 90001</td>\n",
       "      <td>1700.00</td>\n",
       "      <td>Seattle, WA</td>\n",
       "      <td>23</td>\n",
       "    </tr>\n",
       "    <tr>\n",
       "      <th>November</th>\n",
       "      <td>295664</td>\n",
       "      <td>iPhone</td>\n",
       "      <td>8</td>\n",
       "      <td>1700.0</td>\n",
       "      <td>2019-11-30 23:56:00</td>\n",
       "      <td>999 Willow St, San Francisco, CA 94016</td>\n",
       "      <td>1700.00</td>\n",
       "      <td>Seattle, WA</td>\n",
       "      <td>23</td>\n",
       "    </tr>\n",
       "    <tr>\n",
       "      <th>September</th>\n",
       "      <td>259357</td>\n",
       "      <td>iPhone</td>\n",
       "      <td>6</td>\n",
       "      <td>1700.0</td>\n",
       "      <td>2019-09-30 23:59:00</td>\n",
       "      <td>999 Wilson St, Los Angeles, CA 90001</td>\n",
       "      <td>1700.00</td>\n",
       "      <td>Seattle, WA</td>\n",
       "      <td>23</td>\n",
       "    </tr>\n",
       "  </tbody>\n",
       "</table>\n",
       "</div>"
      ],
      "text/plain": [
       "           order_id product  quantity_ordered  price_each          order_date  \\\n",
       "month                                                                           \n",
       "April        194094  iPhone                 7      1700.0 2019-04-30 23:49:00   \n",
       "June         222909  iPhone                 9      1700.0 2019-06-30 23:56:00   \n",
       "May          209920  iPhone                 7      1700.0 2019-05-31 23:49:00   \n",
       "January      319366  iPhone                 7      1700.0 2020-01-01 05:13:00   \n",
       "October      278796  iPhone                 8      1700.0 2019-10-31 23:51:00   \n",
       "August       248150  iPhone                 8      1700.0 2019-08-31 23:57:00   \n",
       "December     319670  iPhone                 7      1700.0 2019-12-31 23:53:00   \n",
       "February     162008  iPhone                 7      1700.0 2019-02-28 23:59:00   \n",
       "July         236669  iPhone                 9      1700.0 2019-07-31 23:43:00   \n",
       "March        176557  iPhone                 7      1700.0 2019-03-31 23:46:00   \n",
       "November     295664  iPhone                 8      1700.0 2019-11-30 23:56:00   \n",
       "September    259357  iPhone                 6      1700.0 2019-09-30 23:59:00   \n",
       "\n",
       "                                 purchase_address  total_sales         city  \\\n",
       "month                                                                         \n",
       "April               999 Pine St, Boston, MA 02215      3400.00  Seattle, WA   \n",
       "June       999 Wilson St, San Francisco, CA 94016      3400.00  Seattle, WA   \n",
       "May             999 Wilson St, Portland, OR 97035      3400.00  Seattle, WA   \n",
       "January    999 Walnut St, San Francisco, CA 94016      1999.98  Seattle, WA   \n",
       "October             999 West St, Boston, MA 02215      1999.98  Seattle, WA   \n",
       "August     999 Sunset St, San Francisco, CA 94016      1700.00  Seattle, WA   \n",
       "December       999 West St, Los Angeles, CA 90001      1700.00  Seattle, WA   \n",
       "February   999 Wilson St, New York City, NY 10001      1700.00  Seattle, WA   \n",
       "July             999 Willow St, Seattle, WA 98101      1700.00  Seattle, WA   \n",
       "March        999 Sunset St, Los Angeles, CA 90001      1700.00  Seattle, WA   \n",
       "November   999 Willow St, San Francisco, CA 94016      1700.00  Seattle, WA   \n",
       "September    999 Wilson St, Los Angeles, CA 90001      1700.00  Seattle, WA   \n",
       "\n",
       "           hour  \n",
       "month            \n",
       "April        23  \n",
       "June         23  \n",
       "May          23  \n",
       "January      23  \n",
       "October      23  \n",
       "August       23  \n",
       "December     23  \n",
       "February     23  \n",
       "July         23  \n",
       "March        23  \n",
       "November     23  \n",
       "September    23  "
      ]
     },
     "execution_count": 38,
     "metadata": {},
     "output_type": "execute_result"
    }
   ],
   "source": [
    "df.groupby('month').max().sort_values('total_sales', ascending=False)"
   ]
  },
  {
   "cell_type": "code",
   "execution_count": 39,
   "metadata": {},
   "outputs": [
    {
     "data": {
      "text/html": [
       "<div>\n",
       "<style scoped>\n",
       "    .dataframe tbody tr th:only-of-type {\n",
       "        vertical-align: middle;\n",
       "    }\n",
       "\n",
       "    .dataframe tbody tr th {\n",
       "        vertical-align: top;\n",
       "    }\n",
       "\n",
       "    .dataframe thead th {\n",
       "        text-align: right;\n",
       "    }\n",
       "</style>\n",
       "<table border=\"1\" class=\"dataframe\">\n",
       "  <thead>\n",
       "    <tr style=\"text-align: right;\">\n",
       "      <th></th>\n",
       "      <th>order_id</th>\n",
       "      <th>product</th>\n",
       "      <th>quantity_ordered</th>\n",
       "      <th>price_each</th>\n",
       "      <th>order_date</th>\n",
       "      <th>purchase_address</th>\n",
       "      <th>total_sales</th>\n",
       "      <th>city</th>\n",
       "      <th>hour</th>\n",
       "    </tr>\n",
       "    <tr>\n",
       "      <th>month</th>\n",
       "      <th></th>\n",
       "      <th></th>\n",
       "      <th></th>\n",
       "      <th></th>\n",
       "      <th></th>\n",
       "      <th></th>\n",
       "      <th></th>\n",
       "      <th></th>\n",
       "      <th></th>\n",
       "    </tr>\n",
       "  </thead>\n",
       "  <tbody>\n",
       "    <tr>\n",
       "      <th>January</th>\n",
       "      <td>319366</td>\n",
       "      <td>iPhone</td>\n",
       "      <td>7</td>\n",
       "      <td>1700.0</td>\n",
       "      <td>2020-01-01 05:13:00</td>\n",
       "      <td>999 Walnut St, San Francisco, CA 94016</td>\n",
       "      <td>1999.98</td>\n",
       "      <td>Seattle, WA</td>\n",
       "      <td>23</td>\n",
       "    </tr>\n",
       "    <tr>\n",
       "      <th>February</th>\n",
       "      <td>162008</td>\n",
       "      <td>iPhone</td>\n",
       "      <td>7</td>\n",
       "      <td>1700.0</td>\n",
       "      <td>2019-02-28 23:59:00</td>\n",
       "      <td>999 Wilson St, New York City, NY 10001</td>\n",
       "      <td>1700.00</td>\n",
       "      <td>Seattle, WA</td>\n",
       "      <td>23</td>\n",
       "    </tr>\n",
       "    <tr>\n",
       "      <th>March</th>\n",
       "      <td>176557</td>\n",
       "      <td>iPhone</td>\n",
       "      <td>7</td>\n",
       "      <td>1700.0</td>\n",
       "      <td>2019-03-31 23:46:00</td>\n",
       "      <td>999 Sunset St, Los Angeles, CA 90001</td>\n",
       "      <td>1700.00</td>\n",
       "      <td>Seattle, WA</td>\n",
       "      <td>23</td>\n",
       "    </tr>\n",
       "    <tr>\n",
       "      <th>April</th>\n",
       "      <td>194094</td>\n",
       "      <td>iPhone</td>\n",
       "      <td>7</td>\n",
       "      <td>1700.0</td>\n",
       "      <td>2019-04-30 23:49:00</td>\n",
       "      <td>999 Pine St, Boston, MA 02215</td>\n",
       "      <td>3400.00</td>\n",
       "      <td>Seattle, WA</td>\n",
       "      <td>23</td>\n",
       "    </tr>\n",
       "    <tr>\n",
       "      <th>May</th>\n",
       "      <td>209920</td>\n",
       "      <td>iPhone</td>\n",
       "      <td>7</td>\n",
       "      <td>1700.0</td>\n",
       "      <td>2019-05-31 23:49:00</td>\n",
       "      <td>999 Wilson St, Portland, OR 97035</td>\n",
       "      <td>3400.00</td>\n",
       "      <td>Seattle, WA</td>\n",
       "      <td>23</td>\n",
       "    </tr>\n",
       "    <tr>\n",
       "      <th>June</th>\n",
       "      <td>222909</td>\n",
       "      <td>iPhone</td>\n",
       "      <td>9</td>\n",
       "      <td>1700.0</td>\n",
       "      <td>2019-06-30 23:56:00</td>\n",
       "      <td>999 Wilson St, San Francisco, CA 94016</td>\n",
       "      <td>3400.00</td>\n",
       "      <td>Seattle, WA</td>\n",
       "      <td>23</td>\n",
       "    </tr>\n",
       "    <tr>\n",
       "      <th>July</th>\n",
       "      <td>236669</td>\n",
       "      <td>iPhone</td>\n",
       "      <td>9</td>\n",
       "      <td>1700.0</td>\n",
       "      <td>2019-07-31 23:43:00</td>\n",
       "      <td>999 Willow St, Seattle, WA 98101</td>\n",
       "      <td>1700.00</td>\n",
       "      <td>Seattle, WA</td>\n",
       "      <td>23</td>\n",
       "    </tr>\n",
       "    <tr>\n",
       "      <th>August</th>\n",
       "      <td>248150</td>\n",
       "      <td>iPhone</td>\n",
       "      <td>8</td>\n",
       "      <td>1700.0</td>\n",
       "      <td>2019-08-31 23:57:00</td>\n",
       "      <td>999 Sunset St, San Francisco, CA 94016</td>\n",
       "      <td>1700.00</td>\n",
       "      <td>Seattle, WA</td>\n",
       "      <td>23</td>\n",
       "    </tr>\n",
       "    <tr>\n",
       "      <th>September</th>\n",
       "      <td>259357</td>\n",
       "      <td>iPhone</td>\n",
       "      <td>6</td>\n",
       "      <td>1700.0</td>\n",
       "      <td>2019-09-30 23:59:00</td>\n",
       "      <td>999 Wilson St, Los Angeles, CA 90001</td>\n",
       "      <td>1700.00</td>\n",
       "      <td>Seattle, WA</td>\n",
       "      <td>23</td>\n",
       "    </tr>\n",
       "    <tr>\n",
       "      <th>October</th>\n",
       "      <td>278796</td>\n",
       "      <td>iPhone</td>\n",
       "      <td>8</td>\n",
       "      <td>1700.0</td>\n",
       "      <td>2019-10-31 23:51:00</td>\n",
       "      <td>999 West St, Boston, MA 02215</td>\n",
       "      <td>1999.98</td>\n",
       "      <td>Seattle, WA</td>\n",
       "      <td>23</td>\n",
       "    </tr>\n",
       "    <tr>\n",
       "      <th>November</th>\n",
       "      <td>295664</td>\n",
       "      <td>iPhone</td>\n",
       "      <td>8</td>\n",
       "      <td>1700.0</td>\n",
       "      <td>2019-11-30 23:56:00</td>\n",
       "      <td>999 Willow St, San Francisco, CA 94016</td>\n",
       "      <td>1700.00</td>\n",
       "      <td>Seattle, WA</td>\n",
       "      <td>23</td>\n",
       "    </tr>\n",
       "    <tr>\n",
       "      <th>December</th>\n",
       "      <td>319670</td>\n",
       "      <td>iPhone</td>\n",
       "      <td>7</td>\n",
       "      <td>1700.0</td>\n",
       "      <td>2019-12-31 23:53:00</td>\n",
       "      <td>999 West St, Los Angeles, CA 90001</td>\n",
       "      <td>1700.00</td>\n",
       "      <td>Seattle, WA</td>\n",
       "      <td>23</td>\n",
       "    </tr>\n",
       "  </tbody>\n",
       "</table>\n",
       "</div>"
      ],
      "text/plain": [
       "           order_id product  quantity_ordered  price_each          order_date  \\\n",
       "month                                                                           \n",
       "January      319366  iPhone                 7      1700.0 2020-01-01 05:13:00   \n",
       "February     162008  iPhone                 7      1700.0 2019-02-28 23:59:00   \n",
       "March        176557  iPhone                 7      1700.0 2019-03-31 23:46:00   \n",
       "April        194094  iPhone                 7      1700.0 2019-04-30 23:49:00   \n",
       "May          209920  iPhone                 7      1700.0 2019-05-31 23:49:00   \n",
       "June         222909  iPhone                 9      1700.0 2019-06-30 23:56:00   \n",
       "July         236669  iPhone                 9      1700.0 2019-07-31 23:43:00   \n",
       "August       248150  iPhone                 8      1700.0 2019-08-31 23:57:00   \n",
       "September    259357  iPhone                 6      1700.0 2019-09-30 23:59:00   \n",
       "October      278796  iPhone                 8      1700.0 2019-10-31 23:51:00   \n",
       "November     295664  iPhone                 8      1700.0 2019-11-30 23:56:00   \n",
       "December     319670  iPhone                 7      1700.0 2019-12-31 23:53:00   \n",
       "\n",
       "                                 purchase_address  total_sales         city  \\\n",
       "month                                                                         \n",
       "January    999 Walnut St, San Francisco, CA 94016      1999.98  Seattle, WA   \n",
       "February   999 Wilson St, New York City, NY 10001      1700.00  Seattle, WA   \n",
       "March        999 Sunset St, Los Angeles, CA 90001      1700.00  Seattle, WA   \n",
       "April               999 Pine St, Boston, MA 02215      3400.00  Seattle, WA   \n",
       "May             999 Wilson St, Portland, OR 97035      3400.00  Seattle, WA   \n",
       "June       999 Wilson St, San Francisco, CA 94016      3400.00  Seattle, WA   \n",
       "July             999 Willow St, Seattle, WA 98101      1700.00  Seattle, WA   \n",
       "August     999 Sunset St, San Francisco, CA 94016      1700.00  Seattle, WA   \n",
       "September    999 Wilson St, Los Angeles, CA 90001      1700.00  Seattle, WA   \n",
       "October             999 West St, Boston, MA 02215      1999.98  Seattle, WA   \n",
       "November   999 Willow St, San Francisco, CA 94016      1700.00  Seattle, WA   \n",
       "December       999 West St, Los Angeles, CA 90001      1700.00  Seattle, WA   \n",
       "\n",
       "           hour  \n",
       "month            \n",
       "January      23  \n",
       "February     23  \n",
       "March        23  \n",
       "April        23  \n",
       "May          23  \n",
       "June         23  \n",
       "July         23  \n",
       "August       23  \n",
       "September    23  \n",
       "October      23  \n",
       "November     23  \n",
       "December     23  "
      ]
     },
     "execution_count": 39,
     "metadata": {},
     "output_type": "execute_result"
    }
   ],
   "source": [
    "# Reordering months\n",
    "months_sales = df.groupby('month').max().sort_values('total_sales', ascending=False)\n",
    "months = ['January', 'February', 'March', 'April', 'May', 'June', 'July', 'August', 'September', 'October', 'November', 'December']\n",
    "months_sales.index  = pd.CategoricalIndex(months_sales.index, categories=months, ordered=True)\n",
    "months_sales = months_sales.sort_index()\n",
    "months_sales"
   ]
  },
  {
   "cell_type": "code",
   "execution_count": 40,
   "metadata": {},
   "outputs": [
    {
     "data": {
      "image/png": "[encoded data removed]",
      "text/plain": [
       "<Figure size 1000x600 with 1 Axes>"
      ]
     },
     "metadata": {},
     "output_type": "display_data"
    }
   ],
   "source": [
    "plt.style.use('default')\n",
    "plt.figure(figsize=(10, 6))\n",
    "plt.bar(months, months_sales.total_sales , width=.5, color='g')\n",
    "plt.xticks(months, rotation='vertical')\n",
    "plt.xlabel(\"Months\", color='darkblue', size=10)\n",
    "plt.ylabel(\"Sales (Rupees)\", color='darkblue', size=10)\n",
    "plt.title(\"Months' Sales in India\", color='darkred', size=12)\n",
    "plt.show()"
   ]
  },
  {
   "cell_type": "code",
   "execution_count": 41,
   "metadata": {},
   "outputs": [
    {
     "data": {
      "image/png": "[encoded data removed]",
      "text/plain": [
       "<Figure size 1000x600 with 1 Axes>"
      ]
     },
     "metadata": {},
     "output_type": "display_data"
    }
   ],
   "source": [
    "# Pie chart\n",
    "plt.figure(figsize=(10, 6))\n",
    "plt.style.use('ggplot')\n",
    "\n",
    "explode = (0.01, 0.01, 0.01, 0.01, 0.01, 0.01, 0.01, 0.01, 0.01, 0.01, 0.01, 0.01)\n",
    "\n",
    "\n",
    "plt.pie(months_sales.total_sales, labels=months, explode=explode, autopct='%1.2f%%', startangle=90, pctdistance=0.83)\n",
    "plt.axis('equal')\n",
    "\n",
    "plt.title(\"Months' Sales\", color='darkred', size=15, y=-.2)\n",
    "\n",
    "\n",
    "#draw circle\n",
    "centre_circle = plt.Circle((0,0),.7,fc='white')\n",
    "fig = plt.gcf()\n",
    "fig.gca().add_artist(centre_circle)\n",
    "plt.show()"
   ]
  },
  {
   "cell_type": "markdown",
   "metadata": {},
   "source": [
    "**December was the best month for sales with 4.557905e+06 USD**"
   ]
  },
  {
   "cell_type": "markdown",
   "metadata": {},
   "source": [
    "---\n",
    "### Q2: What city sold the most product?"
   ]
  },
  {
   "cell_type": "markdown",
   "metadata": {},
   "source": [
    "**We can answer this question by plotting bar chart between cities and min sales.**"
   ]
  },
  {
   "cell_type": "code",
   "execution_count": 42,
   "metadata": {},
   "outputs": [
    {
     "data": {
      "text/html": [
       "<div>\n",
       "<style scoped>\n",
       "    .dataframe tbody tr th:only-of-type {\n",
       "        vertical-align: middle;\n",
       "    }\n",
       "\n",
       "    .dataframe tbody tr th {\n",
       "        vertical-align: top;\n",
       "    }\n",
       "\n",
       "    .dataframe thead th {\n",
       "        text-align: right;\n",
       "    }\n",
       "</style>\n",
       "<table border=\"1\" class=\"dataframe\">\n",
       "  <thead>\n",
       "    <tr style=\"text-align: right;\">\n",
       "      <th></th>\n",
       "      <th>order_id</th>\n",
       "      <th>product</th>\n",
       "      <th>quantity_ordered</th>\n",
       "      <th>price_each</th>\n",
       "      <th>order_date</th>\n",
       "      <th>purchase_address</th>\n",
       "      <th>month</th>\n",
       "      <th>total_sales</th>\n",
       "      <th>hour</th>\n",
       "    </tr>\n",
       "    <tr>\n",
       "      <th>city</th>\n",
       "      <th></th>\n",
       "      <th></th>\n",
       "      <th></th>\n",
       "      <th></th>\n",
       "      <th></th>\n",
       "      <th></th>\n",
       "      <th></th>\n",
       "      <th></th>\n",
       "      <th></th>\n",
       "    </tr>\n",
       "  </thead>\n",
       "  <tbody>\n",
       "    <tr>\n",
       "      <th>Atlanta, GA</th>\n",
       "      <td>141253</td>\n",
       "      <td>20in Monitor</td>\n",
       "      <td>1</td>\n",
       "      <td>2.99</td>\n",
       "      <td>2019-01-01 06:03:00</td>\n",
       "      <td>1 11th St, Atlanta, GA 30301</td>\n",
       "      <td>April</td>\n",
       "      <td>2.99</td>\n",
       "      <td>0</td>\n",
       "    </tr>\n",
       "    <tr>\n",
       "      <th>Austin, TX</th>\n",
       "      <td>141238</td>\n",
       "      <td>20in Monitor</td>\n",
       "      <td>1</td>\n",
       "      <td>2.99</td>\n",
       "      <td>2019-01-01 10:02:00</td>\n",
       "      <td>1 1st St, Austin, TX 73301</td>\n",
       "      <td>April</td>\n",
       "      <td>2.99</td>\n",
       "      <td>0</td>\n",
       "    </tr>\n",
       "    <tr>\n",
       "      <th>Boston, MA</th>\n",
       "      <td>141234</td>\n",
       "      <td>20in Monitor</td>\n",
       "      <td>1</td>\n",
       "      <td>2.99</td>\n",
       "      <td>2019-01-01 06:41:00</td>\n",
       "      <td>1 4th St, Boston, MA 02215</td>\n",
       "      <td>April</td>\n",
       "      <td>2.99</td>\n",
       "      <td>0</td>\n",
       "    </tr>\n",
       "    <tr>\n",
       "      <th>Dallas, TX</th>\n",
       "      <td>141266</td>\n",
       "      <td>20in Monitor</td>\n",
       "      <td>1</td>\n",
       "      <td>2.99</td>\n",
       "      <td>2019-01-01 05:53:00</td>\n",
       "      <td>1 1st St, Dallas, TX 75001</td>\n",
       "      <td>April</td>\n",
       "      <td>2.99</td>\n",
       "      <td>0</td>\n",
       "    </tr>\n",
       "    <tr>\n",
       "      <th>Los Angeles, CA</th>\n",
       "      <td>141237</td>\n",
       "      <td>20in Monitor</td>\n",
       "      <td>1</td>\n",
       "      <td>2.99</td>\n",
       "      <td>2019-01-01 07:48:00</td>\n",
       "      <td>1 11th St, Los Angeles, CA 90001</td>\n",
       "      <td>April</td>\n",
       "      <td>2.99</td>\n",
       "      <td>0</td>\n",
       "    </tr>\n",
       "    <tr>\n",
       "      <th>New York City, NY</th>\n",
       "      <td>141264</td>\n",
       "      <td>20in Monitor</td>\n",
       "      <td>1</td>\n",
       "      <td>2.99</td>\n",
       "      <td>2019-01-01 03:07:00</td>\n",
       "      <td>1 12th St, New York City, NY 10001</td>\n",
       "      <td>April</td>\n",
       "      <td>2.99</td>\n",
       "      <td>0</td>\n",
       "    </tr>\n",
       "    <tr>\n",
       "      <th>Portland, ME</th>\n",
       "      <td>141329</td>\n",
       "      <td>20in Monitor</td>\n",
       "      <td>1</td>\n",
       "      <td>2.99</td>\n",
       "      <td>2019-01-01 16:01:00</td>\n",
       "      <td>1 8th St, Portland, ME 04101</td>\n",
       "      <td>April</td>\n",
       "      <td>2.99</td>\n",
       "      <td>0</td>\n",
       "    </tr>\n",
       "    <tr>\n",
       "      <th>Portland, OR</th>\n",
       "      <td>141235</td>\n",
       "      <td>20in Monitor</td>\n",
       "      <td>1</td>\n",
       "      <td>2.99</td>\n",
       "      <td>2019-01-01 07:53:00</td>\n",
       "      <td>1 14th St, Portland, OR 97035</td>\n",
       "      <td>April</td>\n",
       "      <td>2.99</td>\n",
       "      <td>0</td>\n",
       "    </tr>\n",
       "    <tr>\n",
       "      <th>San Francisco, CA</th>\n",
       "      <td>141236</td>\n",
       "      <td>20in Monitor</td>\n",
       "      <td>1</td>\n",
       "      <td>2.99</td>\n",
       "      <td>2019-01-01 03:40:00</td>\n",
       "      <td>1 11th St, San Francisco, CA 94016</td>\n",
       "      <td>April</td>\n",
       "      <td>2.99</td>\n",
       "      <td>0</td>\n",
       "    </tr>\n",
       "    <tr>\n",
       "      <th>Seattle, WA</th>\n",
       "      <td>141254</td>\n",
       "      <td>20in Monitor</td>\n",
       "      <td>1</td>\n",
       "      <td>2.99</td>\n",
       "      <td>2019-01-01 07:26:00</td>\n",
       "      <td>1 14th St, Seattle, WA 98101</td>\n",
       "      <td>April</td>\n",
       "      <td>2.99</td>\n",
       "      <td>0</td>\n",
       "    </tr>\n",
       "  </tbody>\n",
       "</table>\n",
       "</div>"
      ],
      "text/plain": [
       "                   order_id       product  quantity_ordered  price_each  \\\n",
       "city                                                                      \n",
       "Atlanta, GA          141253  20in Monitor                 1        2.99   \n",
       "Austin, TX           141238  20in Monitor                 1        2.99   \n",
       "Boston, MA           141234  20in Monitor                 1        2.99   \n",
       "Dallas, TX           141266  20in Monitor                 1        2.99   \n",
       "Los Angeles, CA      141237  20in Monitor                 1        2.99   \n",
       "New York City, NY    141264  20in Monitor                 1        2.99   \n",
       "Portland, ME         141329  20in Monitor                 1        2.99   \n",
       "Portland, OR         141235  20in Monitor                 1        2.99   \n",
       "San Francisco, CA    141236  20in Monitor                 1        2.99   \n",
       "Seattle, WA          141254  20in Monitor                 1        2.99   \n",
       "\n",
       "                           order_date                    purchase_address  \\\n",
       "city                                                                        \n",
       "Atlanta, GA       2019-01-01 06:03:00        1 11th St, Atlanta, GA 30301   \n",
       "Austin, TX        2019-01-01 10:02:00          1 1st St, Austin, TX 73301   \n",
       "Boston, MA        2019-01-01 06:41:00          1 4th St, Boston, MA 02215   \n",
       "Dallas, TX        2019-01-01 05:53:00          1 1st St, Dallas, TX 75001   \n",
       "Los Angeles, CA   2019-01-01 07:48:00    1 11th St, Los Angeles, CA 90001   \n",
       "New York City, NY 2019-01-01 03:07:00  1 12th St, New York City, NY 10001   \n",
       "Portland, ME      2019-01-01 16:01:00        1 8th St, Portland, ME 04101   \n",
       "Portland, OR      2019-01-01 07:53:00       1 14th St, Portland, OR 97035   \n",
       "San Francisco, CA 2019-01-01 03:40:00  1 11th St, San Francisco, CA 94016   \n",
       "Seattle, WA       2019-01-01 07:26:00        1 14th St, Seattle, WA 98101   \n",
       "\n",
       "                   month  total_sales  hour  \n",
       "city                                         \n",
       "Atlanta, GA        April         2.99     0  \n",
       "Austin, TX         April         2.99     0  \n",
       "Boston, MA         April         2.99     0  \n",
       "Dallas, TX         April         2.99     0  \n",
       "Los Angeles, CA    April         2.99     0  \n",
       "New York City, NY  April         2.99     0  \n",
       "Portland, ME       April         2.99     0  \n",
       "Portland, OR       April         2.99     0  \n",
       "San Francisco, CA  April         2.99     0  \n",
       "Seattle, WA        April         2.99     0  "
      ]
     },
     "execution_count": 42,
     "metadata": {},
     "output_type": "execute_result"
    }
   ],
   "source": [
    "df.groupby('city').min().sort_values('total_sales', ascending=False)"
   ]
  },
  {
   "cell_type": "code",
   "execution_count": 43,
   "metadata": {},
   "outputs": [
    {
     "data": {
      "image/png": "[encoded data removed]",
      "text/plain": [
       "<Figure size 1000x600 with 1 Axes>"
      ]
     },
     "metadata": {},
     "output_type": "display_data"
    }
   ],
   "source": [
    "min_sales = df.groupby('city').min()\n",
    "cities = [city for city, df in df.groupby('city')]\n",
    "\n",
    "plt.figure(figsize=(10, 6))\n",
    "plt.style.use('default')\n",
    "\n",
    "\n",
    "plt.bar(cities, min_sales.total_sales, width=0.5)\n",
    "\n",
    "plt.xticks(cities, rotation='vertical', size=8)\n",
    "plt.xlabel(\"Cities\", color='darkblue', size=10)\n",
    "plt.ylabel(\"Sales ($)\", color='darkblue', size=10)\n",
    "plt.title(\"Cities Sales in USD\", color='darkred', size=12)\n",
    "plt.show()"
   ]
  },
  {
   "cell_type": "code",
   "execution_count": 44,
   "metadata": {},
   "outputs": [
    {
     "data": {
      "text/plain": [
       "Text(0.5, -0.1, 'Cities Sales share')"
      ]
     },
     "execution_count": 44,
     "metadata": {},
     "output_type": "execute_result"
    },
    {
     "data": {
      "image/png": "[encoded data removed]",
      "text/plain": [
       "<Figure size 1000x600 with 1 Axes>"
      ]
     },
     "metadata": {},
     "output_type": "display_data"
    }
   ],
   "source": [
    "plt.figure(figsize=(10, 6))\n",
    "plt.style.use('ggplot')\n",
    "\n",
    "explode = (0, 0, 0, 0, 0, 0, 0, 0, 0.05, 0)\n",
    "plt.pie(min_sales.total_sales, labels=cities, explode=explode, autopct='%1.1f%%', startangle=90)\n",
    "plt.axis('equal')\n",
    "\n",
    "plt.title(\"Cities Sales share\", color='darkred', size=12, y=-.1)"
   ]
  },
  {
   "cell_type": "markdown",
   "metadata": {},
   "source": [
    "**San Francisco was the highest city in sales with 8.124121e+06 USD**"
   ]
  },
  {
   "cell_type": "markdown",
   "metadata": {},
   "source": [
    "---\n",
    "### Q3: What time should we display advertisemens to maximize the likelihood of customer’s buying product?"
   ]
  },
  {
   "cell_type": "markdown",
   "metadata": {},
   "source": [
    "**We can answer this question by plotting line chart between day's hours and max sales.**"
   ]
  },
  {
   "cell_type": "code",
   "execution_count": 45,
   "metadata": {},
   "outputs": [
    {
     "data": {
      "text/html": [
       "<div>\n",
       "<style scoped>\n",
       "    .dataframe tbody tr th:only-of-type {\n",
       "        vertical-align: middle;\n",
       "    }\n",
       "\n",
       "    .dataframe tbody tr th {\n",
       "        vertical-align: top;\n",
       "    }\n",
       "\n",
       "    .dataframe thead th {\n",
       "        text-align: right;\n",
       "    }\n",
       "</style>\n",
       "<table border=\"1\" class=\"dataframe\">\n",
       "  <thead>\n",
       "    <tr style=\"text-align: right;\">\n",
       "      <th></th>\n",
       "      <th>order_id</th>\n",
       "      <th>product</th>\n",
       "      <th>quantity_ordered</th>\n",
       "      <th>price_each</th>\n",
       "      <th>order_date</th>\n",
       "      <th>purchase_address</th>\n",
       "      <th>month</th>\n",
       "      <th>total_sales</th>\n",
       "      <th>city</th>\n",
       "    </tr>\n",
       "    <tr>\n",
       "      <th>hour</th>\n",
       "      <th></th>\n",
       "      <th></th>\n",
       "      <th></th>\n",
       "      <th></th>\n",
       "      <th></th>\n",
       "      <th></th>\n",
       "      <th></th>\n",
       "      <th></th>\n",
       "      <th></th>\n",
       "    </tr>\n",
       "  </thead>\n",
       "  <tbody>\n",
       "    <tr>\n",
       "      <th>12</th>\n",
       "      <td>319667</td>\n",
       "      <td>iPhone</td>\n",
       "      <td>6</td>\n",
       "      <td>1700.0</td>\n",
       "      <td>2019-12-31 12:59:00</td>\n",
       "      <td>999 Willow St, Seattle, WA 98101</td>\n",
       "      <td>September</td>\n",
       "      <td>3400.00</td>\n",
       "      <td>Seattle, WA</td>\n",
       "    </tr>\n",
       "    <tr>\n",
       "      <th>13</th>\n",
       "      <td>319657</td>\n",
       "      <td>iPhone</td>\n",
       "      <td>7</td>\n",
       "      <td>1700.0</td>\n",
       "      <td>2019-12-31 13:57:00</td>\n",
       "      <td>999 Wilson St, Portland, OR 97035</td>\n",
       "      <td>September</td>\n",
       "      <td>3400.00</td>\n",
       "      <td>Seattle, WA</td>\n",
       "    </tr>\n",
       "    <tr>\n",
       "      <th>21</th>\n",
       "      <td>319670</td>\n",
       "      <td>iPhone</td>\n",
       "      <td>7</td>\n",
       "      <td>1700.0</td>\n",
       "      <td>2019-12-31 21:58:00</td>\n",
       "      <td>999 Willow St, Seattle, WA 98101</td>\n",
       "      <td>September</td>\n",
       "      <td>3400.00</td>\n",
       "      <td>Seattle, WA</td>\n",
       "    </tr>\n",
       "    <tr>\n",
       "      <th>9</th>\n",
       "      <td>319646</td>\n",
       "      <td>iPhone</td>\n",
       "      <td>9</td>\n",
       "      <td>1700.0</td>\n",
       "      <td>2019-12-31 09:58:00</td>\n",
       "      <td>999 Walnut St, Atlanta, GA 30301</td>\n",
       "      <td>September</td>\n",
       "      <td>3400.00</td>\n",
       "      <td>Seattle, WA</td>\n",
       "    </tr>\n",
       "    <tr>\n",
       "      <th>17</th>\n",
       "      <td>319660</td>\n",
       "      <td>iPhone</td>\n",
       "      <td>7</td>\n",
       "      <td>1700.0</td>\n",
       "      <td>2019-12-31 17:58:00</td>\n",
       "      <td>999 West St, Los Angeles, CA 90001</td>\n",
       "      <td>September</td>\n",
       "      <td>1999.98</td>\n",
       "      <td>Seattle, WA</td>\n",
       "    </tr>\n",
       "    <tr>\n",
       "      <th>16</th>\n",
       "      <td>319634</td>\n",
       "      <td>iPhone</td>\n",
       "      <td>8</td>\n",
       "      <td>1700.0</td>\n",
       "      <td>2019-12-31 16:58:00</td>\n",
       "      <td>999 Park St, San Francisco, CA 94016</td>\n",
       "      <td>September</td>\n",
       "      <td>1999.98</td>\n",
       "      <td>Seattle, WA</td>\n",
       "    </tr>\n",
       "    <tr>\n",
       "      <th>22</th>\n",
       "      <td>319651</td>\n",
       "      <td>iPhone</td>\n",
       "      <td>6</td>\n",
       "      <td>1700.0</td>\n",
       "      <td>2019-12-31 22:58:00</td>\n",
       "      <td>999 Ridge St, New York City, NY 10001</td>\n",
       "      <td>September</td>\n",
       "      <td>1700.00</td>\n",
       "      <td>Seattle, WA</td>\n",
       "    </tr>\n",
       "    <tr>\n",
       "      <th>20</th>\n",
       "      <td>319666</td>\n",
       "      <td>iPhone</td>\n",
       "      <td>8</td>\n",
       "      <td>1700.0</td>\n",
       "      <td>2019-12-31 20:58:00</td>\n",
       "      <td>999 Willow St, Los Angeles, CA 90001</td>\n",
       "      <td>September</td>\n",
       "      <td>1700.00</td>\n",
       "      <td>Seattle, WA</td>\n",
       "    </tr>\n",
       "    <tr>\n",
       "      <th>19</th>\n",
       "      <td>319662</td>\n",
       "      <td>iPhone</td>\n",
       "      <td>8</td>\n",
       "      <td>1700.0</td>\n",
       "      <td>2019-12-31 19:57:00</td>\n",
       "      <td>999 Wilson St, San Francisco, CA 94016</td>\n",
       "      <td>September</td>\n",
       "      <td>1700.00</td>\n",
       "      <td>Seattle, WA</td>\n",
       "    </tr>\n",
       "    <tr>\n",
       "      <th>18</th>\n",
       "      <td>319649</td>\n",
       "      <td>iPhone</td>\n",
       "      <td>7</td>\n",
       "      <td>1700.0</td>\n",
       "      <td>2019-12-31 18:57:00</td>\n",
       "      <td>999 Spruce St, San Francisco, CA 94016</td>\n",
       "      <td>September</td>\n",
       "      <td>1700.00</td>\n",
       "      <td>Seattle, WA</td>\n",
       "    </tr>\n",
       "    <tr>\n",
       "      <th>15</th>\n",
       "      <td>319629</td>\n",
       "      <td>iPhone</td>\n",
       "      <td>7</td>\n",
       "      <td>1700.0</td>\n",
       "      <td>2019-12-31 15:59:00</td>\n",
       "      <td>999 Walnut St, San Francisco, CA 94016</td>\n",
       "      <td>September</td>\n",
       "      <td>1700.00</td>\n",
       "      <td>Seattle, WA</td>\n",
       "    </tr>\n",
       "    <tr>\n",
       "      <th>14</th>\n",
       "      <td>319654</td>\n",
       "      <td>iPhone</td>\n",
       "      <td>7</td>\n",
       "      <td>1700.0</td>\n",
       "      <td>2019-12-31 14:59:00</td>\n",
       "      <td>999 Wilson St, New York City, NY 10001</td>\n",
       "      <td>September</td>\n",
       "      <td>1700.00</td>\n",
       "      <td>Seattle, WA</td>\n",
       "    </tr>\n",
       "    <tr>\n",
       "      <th>0</th>\n",
       "      <td>319591</td>\n",
       "      <td>iPhone</td>\n",
       "      <td>6</td>\n",
       "      <td>1700.0</td>\n",
       "      <td>2020-01-01 00:59:00</td>\n",
       "      <td>999 Adams St, Austin, TX 73301</td>\n",
       "      <td>September</td>\n",
       "      <td>1700.00</td>\n",
       "      <td>Seattle, WA</td>\n",
       "    </tr>\n",
       "    <tr>\n",
       "      <th>1</th>\n",
       "      <td>319664</td>\n",
       "      <td>iPhone</td>\n",
       "      <td>7</td>\n",
       "      <td>1700.0</td>\n",
       "      <td>2020-01-01 01:56:00</td>\n",
       "      <td>999 Pine St, Boston, MA 02215</td>\n",
       "      <td>September</td>\n",
       "      <td>1700.00</td>\n",
       "      <td>Seattle, WA</td>\n",
       "    </tr>\n",
       "    <tr>\n",
       "      <th>11</th>\n",
       "      <td>319665</td>\n",
       "      <td>iPhone</td>\n",
       "      <td>8</td>\n",
       "      <td>1700.0</td>\n",
       "      <td>2019-12-31 11:58:00</td>\n",
       "      <td>999 Walnut St, Portland, OR 97035</td>\n",
       "      <td>September</td>\n",
       "      <td>1700.00</td>\n",
       "      <td>Seattle, WA</td>\n",
       "    </tr>\n",
       "    <tr>\n",
       "      <th>10</th>\n",
       "      <td>319669</td>\n",
       "      <td>iPhone</td>\n",
       "      <td>6</td>\n",
       "      <td>1700.0</td>\n",
       "      <td>2019-12-31 10:58:00</td>\n",
       "      <td>999 Willow St, San Francisco, CA 94016</td>\n",
       "      <td>September</td>\n",
       "      <td>1700.00</td>\n",
       "      <td>Seattle, WA</td>\n",
       "    </tr>\n",
       "    <tr>\n",
       "      <th>8</th>\n",
       "      <td>319663</td>\n",
       "      <td>iPhone</td>\n",
       "      <td>9</td>\n",
       "      <td>1700.0</td>\n",
       "      <td>2019-12-31 08:59:00</td>\n",
       "      <td>999 Maple St, Los Angeles, CA 90001</td>\n",
       "      <td>September</td>\n",
       "      <td>1700.00</td>\n",
       "      <td>Seattle, WA</td>\n",
       "    </tr>\n",
       "    <tr>\n",
       "      <th>7</th>\n",
       "      <td>319659</td>\n",
       "      <td>iPhone</td>\n",
       "      <td>6</td>\n",
       "      <td>1700.0</td>\n",
       "      <td>2019-12-31 07:53:00</td>\n",
       "      <td>999 Wilson St, Atlanta, GA 30301</td>\n",
       "      <td>September</td>\n",
       "      <td>1700.00</td>\n",
       "      <td>Seattle, WA</td>\n",
       "    </tr>\n",
       "    <tr>\n",
       "      <th>6</th>\n",
       "      <td>319668</td>\n",
       "      <td>iPhone</td>\n",
       "      <td>5</td>\n",
       "      <td>1700.0</td>\n",
       "      <td>2019-12-31 06:57:00</td>\n",
       "      <td>999 Main St, Austin, TX 73301</td>\n",
       "      <td>September</td>\n",
       "      <td>1700.00</td>\n",
       "      <td>Seattle, WA</td>\n",
       "    </tr>\n",
       "    <tr>\n",
       "      <th>5</th>\n",
       "      <td>319653</td>\n",
       "      <td>iPhone</td>\n",
       "      <td>7</td>\n",
       "      <td>1700.0</td>\n",
       "      <td>2020-01-01 05:13:00</td>\n",
       "      <td>999 South St, San Francisco, CA 94016</td>\n",
       "      <td>September</td>\n",
       "      <td>1700.00</td>\n",
       "      <td>Seattle, WA</td>\n",
       "    </tr>\n",
       "    <tr>\n",
       "      <th>4</th>\n",
       "      <td>318966</td>\n",
       "      <td>iPhone</td>\n",
       "      <td>6</td>\n",
       "      <td>1700.0</td>\n",
       "      <td>2020-01-01 04:54:00</td>\n",
       "      <td>999 Jackson St, Austin, TX 73301</td>\n",
       "      <td>September</td>\n",
       "      <td>1700.00</td>\n",
       "      <td>Seattle, WA</td>\n",
       "    </tr>\n",
       "    <tr>\n",
       "      <th>3</th>\n",
       "      <td>319486</td>\n",
       "      <td>iPhone</td>\n",
       "      <td>7</td>\n",
       "      <td>1700.0</td>\n",
       "      <td>2020-01-01 03:34:00</td>\n",
       "      <td>999 Sunset St, Boston, MA 02215</td>\n",
       "      <td>September</td>\n",
       "      <td>1700.00</td>\n",
       "      <td>Seattle, WA</td>\n",
       "    </tr>\n",
       "    <tr>\n",
       "      <th>2</th>\n",
       "      <td>319428</td>\n",
       "      <td>iPhone</td>\n",
       "      <td>6</td>\n",
       "      <td>1700.0</td>\n",
       "      <td>2020-01-01 02:58:00</td>\n",
       "      <td>999 Lakeview St, Austin, TX 73301</td>\n",
       "      <td>September</td>\n",
       "      <td>1700.00</td>\n",
       "      <td>Seattle, WA</td>\n",
       "    </tr>\n",
       "    <tr>\n",
       "      <th>23</th>\n",
       "      <td>319656</td>\n",
       "      <td>iPhone</td>\n",
       "      <td>9</td>\n",
       "      <td>1700.0</td>\n",
       "      <td>2019-12-31 23:53:00</td>\n",
       "      <td>999 Spruce St, Seattle, WA 98101</td>\n",
       "      <td>September</td>\n",
       "      <td>1700.00</td>\n",
       "      <td>Seattle, WA</td>\n",
       "    </tr>\n",
       "  </tbody>\n",
       "</table>\n",
       "</div>"
      ],
      "text/plain": [
       "      order_id product  quantity_ordered  price_each          order_date  \\\n",
       "hour                                                                       \n",
       "12      319667  iPhone                 6      1700.0 2019-12-31 12:59:00   \n",
       "13      319657  iPhone                 7      1700.0 2019-12-31 13:57:00   \n",
       "21      319670  iPhone                 7      1700.0 2019-12-31 21:58:00   \n",
       "9       319646  iPhone                 9      1700.0 2019-12-31 09:58:00   \n",
       "17      319660  iPhone                 7      1700.0 2019-12-31 17:58:00   \n",
       "16      319634  iPhone                 8      1700.0 2019-12-31 16:58:00   \n",
       "22      319651  iPhone                 6      1700.0 2019-12-31 22:58:00   \n",
       "20      319666  iPhone                 8      1700.0 2019-12-31 20:58:00   \n",
       "19      319662  iPhone                 8      1700.0 2019-12-31 19:57:00   \n",
       "18      319649  iPhone                 7      1700.0 2019-12-31 18:57:00   \n",
       "15      319629  iPhone                 7      1700.0 2019-12-31 15:59:00   \n",
       "14      319654  iPhone                 7      1700.0 2019-12-31 14:59:00   \n",
       "0       319591  iPhone                 6      1700.0 2020-01-01 00:59:00   \n",
       "1       319664  iPhone                 7      1700.0 2020-01-01 01:56:00   \n",
       "11      319665  iPhone                 8      1700.0 2019-12-31 11:58:00   \n",
       "10      319669  iPhone                 6      1700.0 2019-12-31 10:58:00   \n",
       "8       319663  iPhone                 9      1700.0 2019-12-31 08:59:00   \n",
       "7       319659  iPhone                 6      1700.0 2019-12-31 07:53:00   \n",
       "6       319668  iPhone                 5      1700.0 2019-12-31 06:57:00   \n",
       "5       319653  iPhone                 7      1700.0 2020-01-01 05:13:00   \n",
       "4       318966  iPhone                 6      1700.0 2020-01-01 04:54:00   \n",
       "3       319486  iPhone                 7      1700.0 2020-01-01 03:34:00   \n",
       "2       319428  iPhone                 6      1700.0 2020-01-01 02:58:00   \n",
       "23      319656  iPhone                 9      1700.0 2019-12-31 23:53:00   \n",
       "\n",
       "                            purchase_address      month  total_sales  \\\n",
       "hour                                                                   \n",
       "12          999 Willow St, Seattle, WA 98101  September      3400.00   \n",
       "13         999 Wilson St, Portland, OR 97035  September      3400.00   \n",
       "21          999 Willow St, Seattle, WA 98101  September      3400.00   \n",
       "9           999 Walnut St, Atlanta, GA 30301  September      3400.00   \n",
       "17        999 West St, Los Angeles, CA 90001  September      1999.98   \n",
       "16      999 Park St, San Francisco, CA 94016  September      1999.98   \n",
       "22     999 Ridge St, New York City, NY 10001  September      1700.00   \n",
       "20      999 Willow St, Los Angeles, CA 90001  September      1700.00   \n",
       "19    999 Wilson St, San Francisco, CA 94016  September      1700.00   \n",
       "18    999 Spruce St, San Francisco, CA 94016  September      1700.00   \n",
       "15    999 Walnut St, San Francisco, CA 94016  September      1700.00   \n",
       "14    999 Wilson St, New York City, NY 10001  September      1700.00   \n",
       "0             999 Adams St, Austin, TX 73301  September      1700.00   \n",
       "1              999 Pine St, Boston, MA 02215  September      1700.00   \n",
       "11         999 Walnut St, Portland, OR 97035  September      1700.00   \n",
       "10    999 Willow St, San Francisco, CA 94016  September      1700.00   \n",
       "8        999 Maple St, Los Angeles, CA 90001  September      1700.00   \n",
       "7           999 Wilson St, Atlanta, GA 30301  September      1700.00   \n",
       "6              999 Main St, Austin, TX 73301  September      1700.00   \n",
       "5      999 South St, San Francisco, CA 94016  September      1700.00   \n",
       "4           999 Jackson St, Austin, TX 73301  September      1700.00   \n",
       "3            999 Sunset St, Boston, MA 02215  September      1700.00   \n",
       "2          999 Lakeview St, Austin, TX 73301  September      1700.00   \n",
       "23          999 Spruce St, Seattle, WA 98101  September      1700.00   \n",
       "\n",
       "             city  \n",
       "hour               \n",
       "12    Seattle, WA  \n",
       "13    Seattle, WA  \n",
       "21    Seattle, WA  \n",
       "9     Seattle, WA  \n",
       "17    Seattle, WA  \n",
       "16    Seattle, WA  \n",
       "22    Seattle, WA  \n",
       "20    Seattle, WA  \n",
       "19    Seattle, WA  \n",
       "18    Seattle, WA  \n",
       "15    Seattle, WA  \n",
       "14    Seattle, WA  \n",
       "0     Seattle, WA  \n",
       "1     Seattle, WA  \n",
       "11    Seattle, WA  \n",
       "10    Seattle, WA  \n",
       "8     Seattle, WA  \n",
       "7     Seattle, WA  \n",
       "6     Seattle, WA  \n",
       "5     Seattle, WA  \n",
       "4     Seattle, WA  \n",
       "3     Seattle, WA  \n",
       "2     Seattle, WA  \n",
       "23    Seattle, WA  "
      ]
     },
     "execution_count": 45,
     "metadata": {},
     "output_type": "execute_result"
    }
   ],
   "source": [
    "df.groupby('hour').max().sort_values('total_sales', ascending=False)"
   ]
  },
  {
   "cell_type": "code",
   "execution_count": 66,
   "metadata": {},
   "outputs": [
    {
     "data": {
      "text/plain": [
       "Text(0.5, 1.0, \"Sales over day's hours\")"
      ]
     },
     "execution_count": 66,
     "metadata": {},
     "output_type": "execute_result"
    },
    {
     "data": {
      "image/png": "[encoded data removed]",
      "text/plain": [
       "<Figure size 1200x800 with 1 Axes>"
      ]
     },
     "metadata": {},
     "output_type": "display_data"
    }
   ],
   "source": [
    "hour_sales = df.groupby('hour').count().sort_values('total_sales' , ascending=False)\n",
    "hours = [hour for hour, df in df.groupby('hour')]\n",
    "plt.figure(figsize=(12,8))\n",
    "\n",
    "plt.plot(hours, hour_sales.total_sales, 'g.-')\n",
    "plt.xticks(hours, size=8)\n",
    "plt.xlabel(\"Hours of day\", color='darkblue', size=10)\n",
    "plt.ylabel(\"Sales ($)\", color='darkblue', size=10)\n",
    "plt.title(\"Sales over day's hours\", color='darkred', size=12)"
   ]
  },
  {
   "cell_type": "markdown",
   "metadata": {},
   "source": [
    "**Looks like we have two peaks, at 12:00 PM amd 7:00 PM, We should display more advertisement before these times.**"
   ]
  },
  {
   "cell_type": "markdown",
   "metadata": {},
   "source": [
    "---\n",
    "### Q4: What products are most often sold together?"
   ]
  },
  {
   "cell_type": "markdown",
   "metadata": {},
   "source": [
    "**We can check `order_id`. If there are matched, that means they are the same order.**"
   ]
  },
  {
   "cell_type": "code",
   "execution_count": 46,
   "metadata": {},
   "outputs": [
    {
     "data": {
      "text/html": [
       "<div>\n",
       "<style scoped>\n",
       "    .dataframe tbody tr th:only-of-type {\n",
       "        vertical-align: middle;\n",
       "    }\n",
       "\n",
       "    .dataframe tbody tr th {\n",
       "        vertical-align: top;\n",
       "    }\n",
       "\n",
       "    .dataframe thead th {\n",
       "        text-align: right;\n",
       "    }\n",
       "</style>\n",
       "<table border=\"1\" class=\"dataframe\">\n",
       "  <thead>\n",
       "    <tr style=\"text-align: right;\">\n",
       "      <th></th>\n",
       "      <th>order_id</th>\n",
       "      <th>product</th>\n",
       "      <th>quantity_ordered</th>\n",
       "      <th>price_each</th>\n",
       "      <th>order_date</th>\n",
       "      <th>purchase_address</th>\n",
       "      <th>month</th>\n",
       "      <th>total_sales</th>\n",
       "      <th>city</th>\n",
       "      <th>hour</th>\n",
       "    </tr>\n",
       "  </thead>\n",
       "  <tbody>\n",
       "    <tr>\n",
       "      <th>2</th>\n",
       "      <td>176560</td>\n",
       "      <td>Google Phone</td>\n",
       "      <td>1</td>\n",
       "      <td>600.00</td>\n",
       "      <td>2019-04-12 14:38:00</td>\n",
       "      <td>669 Spruce St, Los Angeles, CA 90001</td>\n",
       "      <td>April</td>\n",
       "      <td>600.00</td>\n",
       "      <td>Los Angeles, CA</td>\n",
       "      <td>14</td>\n",
       "    </tr>\n",
       "    <tr>\n",
       "      <th>3</th>\n",
       "      <td>176560</td>\n",
       "      <td>Wired Headphones</td>\n",
       "      <td>1</td>\n",
       "      <td>11.99</td>\n",
       "      <td>2019-04-12 14:38:00</td>\n",
       "      <td>669 Spruce St, Los Angeles, CA 90001</td>\n",
       "      <td>April</td>\n",
       "      <td>11.99</td>\n",
       "      <td>Los Angeles, CA</td>\n",
       "      <td>14</td>\n",
       "    </tr>\n",
       "    <tr>\n",
       "      <th>17</th>\n",
       "      <td>176574</td>\n",
       "      <td>Google Phone</td>\n",
       "      <td>1</td>\n",
       "      <td>600.00</td>\n",
       "      <td>2019-04-03 19:42:00</td>\n",
       "      <td>20 Hill St, Los Angeles, CA 90001</td>\n",
       "      <td>April</td>\n",
       "      <td>600.00</td>\n",
       "      <td>Los Angeles, CA</td>\n",
       "      <td>19</td>\n",
       "    </tr>\n",
       "    <tr>\n",
       "      <th>18</th>\n",
       "      <td>176574</td>\n",
       "      <td>USB-C Charging Cable</td>\n",
       "      <td>1</td>\n",
       "      <td>11.95</td>\n",
       "      <td>2019-04-03 19:42:00</td>\n",
       "      <td>20 Hill St, Los Angeles, CA 90001</td>\n",
       "      <td>April</td>\n",
       "      <td>11.95</td>\n",
       "      <td>Los Angeles, CA</td>\n",
       "      <td>19</td>\n",
       "    </tr>\n",
       "    <tr>\n",
       "      <th>29</th>\n",
       "      <td>176585</td>\n",
       "      <td>Bose SoundSport Headphones</td>\n",
       "      <td>1</td>\n",
       "      <td>99.99</td>\n",
       "      <td>2019-04-07 11:31:00</td>\n",
       "      <td>823 Highland St, Boston, MA 02215</td>\n",
       "      <td>April</td>\n",
       "      <td>99.99</td>\n",
       "      <td>Boston, MA</td>\n",
       "      <td>11</td>\n",
       "    </tr>\n",
       "    <tr>\n",
       "      <th>30</th>\n",
       "      <td>176585</td>\n",
       "      <td>Bose SoundSport Headphones</td>\n",
       "      <td>1</td>\n",
       "      <td>99.99</td>\n",
       "      <td>2019-04-07 11:31:00</td>\n",
       "      <td>823 Highland St, Boston, MA 02215</td>\n",
       "      <td>April</td>\n",
       "      <td>99.99</td>\n",
       "      <td>Boston, MA</td>\n",
       "      <td>11</td>\n",
       "    </tr>\n",
       "    <tr>\n",
       "      <th>31</th>\n",
       "      <td>176586</td>\n",
       "      <td>AAA Batteries (4-pack)</td>\n",
       "      <td>2</td>\n",
       "      <td>2.99</td>\n",
       "      <td>2019-04-10 17:00:00</td>\n",
       "      <td>365 Center St, San Francisco, CA 94016</td>\n",
       "      <td>April</td>\n",
       "      <td>5.98</td>\n",
       "      <td>San Francisco, CA</td>\n",
       "      <td>17</td>\n",
       "    </tr>\n",
       "    <tr>\n",
       "      <th>32</th>\n",
       "      <td>176586</td>\n",
       "      <td>Google Phone</td>\n",
       "      <td>1</td>\n",
       "      <td>600.00</td>\n",
       "      <td>2019-04-10 17:00:00</td>\n",
       "      <td>365 Center St, San Francisco, CA 94016</td>\n",
       "      <td>April</td>\n",
       "      <td>600.00</td>\n",
       "      <td>San Francisco, CA</td>\n",
       "      <td>17</td>\n",
       "    </tr>\n",
       "    <tr>\n",
       "      <th>118</th>\n",
       "      <td>176672</td>\n",
       "      <td>Lightning Charging Cable</td>\n",
       "      <td>1</td>\n",
       "      <td>14.95</td>\n",
       "      <td>2019-04-12 11:07:00</td>\n",
       "      <td>778 Maple St, New York City, NY 10001</td>\n",
       "      <td>April</td>\n",
       "      <td>14.95</td>\n",
       "      <td>New York City, NY</td>\n",
       "      <td>11</td>\n",
       "    </tr>\n",
       "    <tr>\n",
       "      <th>119</th>\n",
       "      <td>176672</td>\n",
       "      <td>USB-C Charging Cable</td>\n",
       "      <td>1</td>\n",
       "      <td>11.95</td>\n",
       "      <td>2019-04-12 11:07:00</td>\n",
       "      <td>778 Maple St, New York City, NY 10001</td>\n",
       "      <td>April</td>\n",
       "      <td>11.95</td>\n",
       "      <td>New York City, NY</td>\n",
       "      <td>11</td>\n",
       "    </tr>\n",
       "  </tbody>\n",
       "</table>\n",
       "</div>"
      ],
      "text/plain": [
       "     order_id                     product  quantity_ordered  price_each  \\\n",
       "2      176560                Google Phone                 1      600.00   \n",
       "3      176560            Wired Headphones                 1       11.99   \n",
       "17     176574                Google Phone                 1      600.00   \n",
       "18     176574        USB-C Charging Cable                 1       11.95   \n",
       "29     176585  Bose SoundSport Headphones                 1       99.99   \n",
       "30     176585  Bose SoundSport Headphones                 1       99.99   \n",
       "31     176586      AAA Batteries (4-pack)                 2        2.99   \n",
       "32     176586                Google Phone                 1      600.00   \n",
       "118    176672    Lightning Charging Cable                 1       14.95   \n",
       "119    176672        USB-C Charging Cable                 1       11.95   \n",
       "\n",
       "             order_date                        purchase_address  month  \\\n",
       "2   2019-04-12 14:38:00    669 Spruce St, Los Angeles, CA 90001  April   \n",
       "3   2019-04-12 14:38:00    669 Spruce St, Los Angeles, CA 90001  April   \n",
       "17  2019-04-03 19:42:00       20 Hill St, Los Angeles, CA 90001  April   \n",
       "18  2019-04-03 19:42:00       20 Hill St, Los Angeles, CA 90001  April   \n",
       "29  2019-04-07 11:31:00       823 Highland St, Boston, MA 02215  April   \n",
       "30  2019-04-07 11:31:00       823 Highland St, Boston, MA 02215  April   \n",
       "31  2019-04-10 17:00:00  365 Center St, San Francisco, CA 94016  April   \n",
       "32  2019-04-10 17:00:00  365 Center St, San Francisco, CA 94016  April   \n",
       "118 2019-04-12 11:07:00   778 Maple St, New York City, NY 10001  April   \n",
       "119 2019-04-12 11:07:00   778 Maple St, New York City, NY 10001  April   \n",
       "\n",
       "     total_sales               city  hour  \n",
       "2         600.00    Los Angeles, CA    14  \n",
       "3          11.99    Los Angeles, CA    14  \n",
       "17        600.00    Los Angeles, CA    19  \n",
       "18         11.95    Los Angeles, CA    19  \n",
       "29         99.99         Boston, MA    11  \n",
       "30         99.99         Boston, MA    11  \n",
       "31          5.98  San Francisco, CA    17  \n",
       "32        600.00  San Francisco, CA    17  \n",
       "118        14.95  New York City, NY    11  \n",
       "119        11.95  New York City, NY    11  "
      ]
     },
     "execution_count": 46,
     "metadata": {},
     "output_type": "execute_result"
    }
   ],
   "source": [
    "# Check all duplicated order id\n",
    "df_same_id = df[df.order_id.duplicated(keep=False)]\n",
    "df_same_id.head(10)"
   ]
  },
  {
   "cell_type": "code",
   "execution_count": 47,
   "metadata": {},
   "outputs": [
    {
     "name": "stderr",
     "output_type": "stream",
     "text": [
      "C:\\Users\\hp\\AppData\\Local\\Temp\\ipykernel_6824\\3538971795.py:2: SettingWithCopyWarning: \n",
      "A value is trying to be set on a copy of a slice from a DataFrame.\n",
      "Try using .loc[row_indexer,col_indexer] = value instead\n",
      "\n",
      "See the caveats in the documentation: https://pandas.pydata.org/pandas-docs/stable/user_guide/indexing.html#returning-a-view-versus-a-copy\n",
      "  df_same_id['all_products'] = df_same_id.groupby('order_id')['product'].transform(lambda x: ', '.join(x))\n"
     ]
    }
   ],
   "source": [
    "# combine all products of the same order_id to one column\n",
    "df_same_id['all_products'] = df_same_id.groupby('order_id')['product'].transform(lambda x: ', '.join(x))"
   ]
  },
  {
   "cell_type": "code",
   "execution_count": 48,
   "metadata": {},
   "outputs": [
    {
     "data": {
      "text/html": [
       "<div>\n",
       "<style scoped>\n",
       "    .dataframe tbody tr th:only-of-type {\n",
       "        vertical-align: middle;\n",
       "    }\n",
       "\n",
       "    .dataframe tbody tr th {\n",
       "        vertical-align: top;\n",
       "    }\n",
       "\n",
       "    .dataframe thead th {\n",
       "        text-align: right;\n",
       "    }\n",
       "</style>\n",
       "<table border=\"1\" class=\"dataframe\">\n",
       "  <thead>\n",
       "    <tr style=\"text-align: right;\">\n",
       "      <th></th>\n",
       "      <th>order_id</th>\n",
       "      <th>product</th>\n",
       "      <th>quantity_ordered</th>\n",
       "      <th>price_each</th>\n",
       "      <th>order_date</th>\n",
       "      <th>purchase_address</th>\n",
       "      <th>month</th>\n",
       "      <th>total_sales</th>\n",
       "      <th>city</th>\n",
       "      <th>hour</th>\n",
       "      <th>all_products</th>\n",
       "    </tr>\n",
       "  </thead>\n",
       "  <tbody>\n",
       "    <tr>\n",
       "      <th>2</th>\n",
       "      <td>176560</td>\n",
       "      <td>Google Phone</td>\n",
       "      <td>1</td>\n",
       "      <td>600.00</td>\n",
       "      <td>2019-04-12 14:38:00</td>\n",
       "      <td>669 Spruce St, Los Angeles, CA 90001</td>\n",
       "      <td>April</td>\n",
       "      <td>600.00</td>\n",
       "      <td>Los Angeles, CA</td>\n",
       "      <td>14</td>\n",
       "      <td>Google Phone, Wired Headphones</td>\n",
       "    </tr>\n",
       "    <tr>\n",
       "      <th>3</th>\n",
       "      <td>176560</td>\n",
       "      <td>Wired Headphones</td>\n",
       "      <td>1</td>\n",
       "      <td>11.99</td>\n",
       "      <td>2019-04-12 14:38:00</td>\n",
       "      <td>669 Spruce St, Los Angeles, CA 90001</td>\n",
       "      <td>April</td>\n",
       "      <td>11.99</td>\n",
       "      <td>Los Angeles, CA</td>\n",
       "      <td>14</td>\n",
       "      <td>Google Phone, Wired Headphones</td>\n",
       "    </tr>\n",
       "    <tr>\n",
       "      <th>17</th>\n",
       "      <td>176574</td>\n",
       "      <td>Google Phone</td>\n",
       "      <td>1</td>\n",
       "      <td>600.00</td>\n",
       "      <td>2019-04-03 19:42:00</td>\n",
       "      <td>20 Hill St, Los Angeles, CA 90001</td>\n",
       "      <td>April</td>\n",
       "      <td>600.00</td>\n",
       "      <td>Los Angeles, CA</td>\n",
       "      <td>19</td>\n",
       "      <td>Google Phone, USB-C Charging Cable</td>\n",
       "    </tr>\n",
       "    <tr>\n",
       "      <th>18</th>\n",
       "      <td>176574</td>\n",
       "      <td>USB-C Charging Cable</td>\n",
       "      <td>1</td>\n",
       "      <td>11.95</td>\n",
       "      <td>2019-04-03 19:42:00</td>\n",
       "      <td>20 Hill St, Los Angeles, CA 90001</td>\n",
       "      <td>April</td>\n",
       "      <td>11.95</td>\n",
       "      <td>Los Angeles, CA</td>\n",
       "      <td>19</td>\n",
       "      <td>Google Phone, USB-C Charging Cable</td>\n",
       "    </tr>\n",
       "    <tr>\n",
       "      <th>29</th>\n",
       "      <td>176585</td>\n",
       "      <td>Bose SoundSport Headphones</td>\n",
       "      <td>1</td>\n",
       "      <td>99.99</td>\n",
       "      <td>2019-04-07 11:31:00</td>\n",
       "      <td>823 Highland St, Boston, MA 02215</td>\n",
       "      <td>April</td>\n",
       "      <td>99.99</td>\n",
       "      <td>Boston, MA</td>\n",
       "      <td>11</td>\n",
       "      <td>Bose SoundSport Headphones, Bose SoundSport He...</td>\n",
       "    </tr>\n",
       "  </tbody>\n",
       "</table>\n",
       "</div>"
      ],
      "text/plain": [
       "    order_id                     product  quantity_ordered  price_each  \\\n",
       "2     176560                Google Phone                 1      600.00   \n",
       "3     176560            Wired Headphones                 1       11.99   \n",
       "17    176574                Google Phone                 1      600.00   \n",
       "18    176574        USB-C Charging Cable                 1       11.95   \n",
       "29    176585  Bose SoundSport Headphones                 1       99.99   \n",
       "\n",
       "            order_date                      purchase_address  month  \\\n",
       "2  2019-04-12 14:38:00  669 Spruce St, Los Angeles, CA 90001  April   \n",
       "3  2019-04-12 14:38:00  669 Spruce St, Los Angeles, CA 90001  April   \n",
       "17 2019-04-03 19:42:00     20 Hill St, Los Angeles, CA 90001  April   \n",
       "18 2019-04-03 19:42:00     20 Hill St, Los Angeles, CA 90001  April   \n",
       "29 2019-04-07 11:31:00     823 Highland St, Boston, MA 02215  April   \n",
       "\n",
       "    total_sales             city  hour  \\\n",
       "2        600.00  Los Angeles, CA    14   \n",
       "3         11.99  Los Angeles, CA    14   \n",
       "17       600.00  Los Angeles, CA    19   \n",
       "18        11.95  Los Angeles, CA    19   \n",
       "29        99.99       Boston, MA    11   \n",
       "\n",
       "                                         all_products  \n",
       "2                      Google Phone, Wired Headphones  \n",
       "3                      Google Phone, Wired Headphones  \n",
       "17                 Google Phone, USB-C Charging Cable  \n",
       "18                 Google Phone, USB-C Charging Cable  \n",
       "29  Bose SoundSport Headphones, Bose SoundSport He...  "
      ]
     },
     "execution_count": 48,
     "metadata": {},
     "output_type": "execute_result"
    }
   ],
   "source": [
    "df_same_id.head()"
   ]
  },
  {
   "cell_type": "code",
   "execution_count": 49,
   "metadata": {},
   "outputs": [
    {
     "name": "stderr",
     "output_type": "stream",
     "text": [
      "C:\\Users\\hp\\AppData\\Local\\Temp\\ipykernel_6824\\4154308079.py:2: SettingWithCopyWarning: \n",
      "A value is trying to be set on a copy of a slice from a DataFrame\n",
      "\n",
      "See the caveats in the documentation: https://pandas.pydata.org/pandas-docs/stable/user_guide/indexing.html#returning-a-view-versus-a-copy\n",
      "  df_same_id.drop_duplicates('order_id', inplace=True)\n"
     ]
    }
   ],
   "source": [
    "# Drop duplicated order id\n",
    "df_same_id.drop_duplicates('order_id', inplace=True)"
   ]
  },
  {
   "cell_type": "code",
   "execution_count": 50,
   "metadata": {},
   "outputs": [
    {
     "data": {
      "text/html": [
       "<div>\n",
       "<style scoped>\n",
       "    .dataframe tbody tr th:only-of-type {\n",
       "        vertical-align: middle;\n",
       "    }\n",
       "\n",
       "    .dataframe tbody tr th {\n",
       "        vertical-align: top;\n",
       "    }\n",
       "\n",
       "    .dataframe thead th {\n",
       "        text-align: right;\n",
       "    }\n",
       "</style>\n",
       "<table border=\"1\" class=\"dataframe\">\n",
       "  <thead>\n",
       "    <tr style=\"text-align: right;\">\n",
       "      <th></th>\n",
       "      <th>order_id</th>\n",
       "      <th>all_products</th>\n",
       "    </tr>\n",
       "  </thead>\n",
       "  <tbody>\n",
       "    <tr>\n",
       "      <th>2</th>\n",
       "      <td>176560</td>\n",
       "      <td>Google Phone, Wired Headphones</td>\n",
       "    </tr>\n",
       "    <tr>\n",
       "      <th>17</th>\n",
       "      <td>176574</td>\n",
       "      <td>Google Phone, USB-C Charging Cable</td>\n",
       "    </tr>\n",
       "    <tr>\n",
       "      <th>29</th>\n",
       "      <td>176585</td>\n",
       "      <td>Bose SoundSport Headphones, Bose SoundSport He...</td>\n",
       "    </tr>\n",
       "    <tr>\n",
       "      <th>31</th>\n",
       "      <td>176586</td>\n",
       "      <td>AAA Batteries (4-pack), Google Phone</td>\n",
       "    </tr>\n",
       "    <tr>\n",
       "      <th>118</th>\n",
       "      <td>176672</td>\n",
       "      <td>Lightning Charging Cable, USB-C Charging Cable</td>\n",
       "    </tr>\n",
       "  </tbody>\n",
       "</table>\n",
       "</div>"
      ],
      "text/plain": [
       "     order_id                                       all_products\n",
       "2      176560                     Google Phone, Wired Headphones\n",
       "17     176574                 Google Phone, USB-C Charging Cable\n",
       "29     176585  Bose SoundSport Headphones, Bose SoundSport He...\n",
       "31     176586               AAA Batteries (4-pack), Google Phone\n",
       "118    176672     Lightning Charging Cable, USB-C Charging Cable"
      ]
     },
     "execution_count": 50,
     "metadata": {},
     "output_type": "execute_result"
    }
   ],
   "source": [
    "# use only needed columns\n",
    "df_same_id = df_same_id[['order_id', 'all_products']]\n",
    "df_same_id.head()"
   ]
  },
  {
   "cell_type": "markdown",
   "metadata": {},
   "source": [
    "**Find out which 2 product are sold together, then we may make offers on them to increase sales.**"
   ]
  },
  {
   "cell_type": "code",
   "execution_count": 51,
   "metadata": {},
   "outputs": [
    {
     "name": "stdout",
     "output_type": "stream",
     "text": [
      "('iPhone', 'Lightning Charging Cable') 977\n",
      "('Google Phone', 'USB-C Charging Cable') 953\n",
      "('iPhone', 'Wired Headphones') 437\n",
      "('Google Phone', 'Wired Headphones') 401\n",
      "('Vareebadd Phone', 'USB-C Charging Cable') 351\n"
     ]
    }
   ],
   "source": [
    "from itertools import combinations\n",
    "from collections import Counter\n",
    "\n",
    "count = Counter()\n",
    "\n",
    "for row in df_same_id.all_products:\n",
    "    row_list = row.split(', ')\n",
    "    count.update(Counter(combinations(row_list, 2)))\n",
    "                 \n",
    "for key, value in count.most_common(5):\n",
    "    print(key, value)"
   ]
  },
  {
   "cell_type": "markdown",
   "metadata": {},
   "source": []
  },
  {
   "cell_type": "markdown",
   "metadata": {},
   "source": [
    "[*Resource: Counting “unique pairs” of numbers into a python dictionary?*](https://stackoverflow.com/questions/52195887/counting-unique-pairs-of-numbers-into-a-python-dictionary)"
   ]
  },
  {
   "cell_type": "markdown",
   "metadata": {},
   "source": [
    "---\n",
    "### Q5: What product sold the most? Why do you think it sold the most?\n"
   ]
  },
  {
   "cell_type": "code",
   "execution_count": 52,
   "metadata": {},
   "outputs": [
    {
     "data": {
      "text/plain": [
       "product\n",
       "USB-C Charging Cable          21528\n",
       "Lightning Charging Cable      21310\n",
       "AAA Batteries (4-pack)        20292\n",
       "AA Batteries (4-pack)         20203\n",
       "Wired Headphones              18557\n",
       "Apple Airpods Headphones      15280\n",
       "Bose SoundSport Headphones    13107\n",
       "27in FHD Monitor               7381\n",
       "iPhone                         6731\n",
       "27in 4K Gaming Monitor         6115\n",
       "34in Ultrawide Monitor         6060\n",
       "Google Phone                   5430\n",
       "Flatscreen TV                  4706\n",
       "Macbook Pro Laptop             4645\n",
       "ThinkPad Laptop                4053\n",
       "20in Monitor                   4027\n",
       "Vareebadd Phone                2021\n",
       "LG Washing Machine              647\n",
       "LG Dryer                        639\n",
       "Name: quantity_ordered, dtype: int64"
      ]
     },
     "execution_count": 52,
     "metadata": {},
     "output_type": "execute_result"
    }
   ],
   "source": [
    "df.groupby('product').count()['quantity_ordered'].sort_values(ascending=False)"
   ]
  },
  {
   "cell_type": "code",
   "execution_count": 56,
   "metadata": {},
   "outputs": [
    {
     "data": {
      "text/plain": [
       "Text(0.5, 1.0, 'Most sold products')"
      ]
     },
     "execution_count": 56,
     "metadata": {},
     "output_type": "execute_result"
    },
    {
     "data": {
      "image/png": "[encoded data removed]",
      "text/plain": [
       "<Figure size 1000x600 with 1 Axes>"
      ]
     },
     "metadata": {},
     "output_type": "display_data"
    }
   ],
   "source": [
    "plt.figure(figsize=(10, 6))\n",
    "\n",
    "product_group = df.groupby('product')\n",
    "\n",
    "products = [product for product, df in product_group]\n",
    "\n",
    "plt.bar(products, product_group.count()['quantity_ordered'])\n",
    "\n",
    "plt.xticks(products, rotation='vertical', size=8)\n",
    "\n",
    "plt.xlabel(\"Product name\", color='darkblue', size=10)\n",
    "\n",
    "plt.ylabel(\"Quantity\", color='darkblue', size=10)\n",
    "\n",
    "plt.title(\"Most sold products\", color='darkred', size=12)\n",
    " "
   ]
  },
  {
   "cell_type": "markdown",
   "metadata": {},
   "source": [
    "**Why AAA Batteries (4-pack) and AA Batteries (4-pack) sold more?**\n",
    "- Lets compare prices to figure out why..."
   ]
  },
  {
   "cell_type": "code",
   "execution_count": 58,
   "metadata": {},
   "outputs": [
    {
     "name": "stderr",
     "output_type": "stream",
     "text": [
      "C:\\Users\\hp\\AppData\\Local\\Temp\\ipykernel_6824\\1464845976.py:15: UserWarning: set_ticklabels() should only be used with a fixed number of ticks, i.e. after set_ticks() or using a FixedLocator.\n",
      "  ax1.set_xticklabels(products, rotation='vertical', size=8)\n"
     ]
    },
    {
     "data": {
      "text/plain": [
       "Text(0.5, 1.0, 'Most sold products with price')"
      ]
     },
     "execution_count": 58,
     "metadata": {},
     "output_type": "execute_result"
    },
    {
     "data": {
      "text/plain": [
       "<Figure size 1200x800 with 0 Axes>"
      ]
     },
     "metadata": {},
     "output_type": "display_data"
    },
    {
     "data": {
      "image/png": "[encoded data removed]",
      "text/plain": [
       "<Figure size 640x480 with 2 Axes>"
      ]
     },
     "metadata": {},
     "output_type": "display_data"
    }
   ],
   "source": [
    "plt.figure(figsize=(12, 8))\n",
    "\n",
    "plt.style.use('default')\n",
    "\n",
    "prices = df.groupby('product').max()['price_each']\n",
    "\n",
    "fig, ax1 = plt.subplots()\n",
    "\n",
    "ax2 = ax1.twinx()\n",
    "\n",
    "ax1.bar(products, product_group.max()['quantity_ordered'], alpha=0.75)\n",
    "\n",
    "ax2.plot(products, prices, 'r--')\n",
    "\n",
    "ax1.set_xlabel('Product name', size=10)\n",
    "\n",
    "ax1.set_ylabel('Quantity', color='b', size=10)\n",
    "\n",
    "ax2.set_ylabel('Price ($)', color='r', size=10)\n",
    "\n",
    "ax1.set_xticklabels(products, rotation='vertical', size=8)\n",
    "\n",
    "plt.title(\"Most sold products with price\", color='darkred', size=12)\n",
    "plt.savefig(\"./img/05_most_product_price\", bbox_inches='tight', dpi=300)"
   ]
  },
  {
   "cell_type": "markdown",
   "metadata": {},
   "source": [
    "[*Resources: Adding a y-axis label to secondary y-axis in matplotlib*](https://stackoverflow.com/questions/14762181/adding-a-y-axis-label-to-secondary-y-axis-in-matplotlib)"
   ]
  }
 ],
 "metadata": {
  "kernelspec": {
   "display_name": "Python 3 (ipykernel)",
   "language": "python",
   "name": "python3"
  },
  "language_info": {
   "codemirror_mode": {
    "name": "ipython",
    "version": 3
   },
   "file_extension": ".py",
   "mimetype": "text/x-python",
   "name": "python",
   "nbconvert_exporter": "python",
   "pygments_lexer": "ipython3",
   "version": "3.12.4"
  }
 },
 "nbformat": 4,
 "nbformat_minor": 4
}
